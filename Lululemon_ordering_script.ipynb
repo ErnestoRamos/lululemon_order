{
 "cells": [
  {
   "cell_type": "markdown",
   "metadata": {},
   "source": [
    "## How does this script work?\n",
    "\n",
    "#### Part 1:\n",
    "- scrape all the available items from strategics lululemon website\n",
    "- make an excel sheet for people to fill out containing drop downs of all the items \n",
    "\n",
    "#### Part 2:\n",
    "- gather all the orders filled out by the team. Group by item name, colour, size and quantity\n",
    "\n",
    "#### Part 3:\n",
    "- attach a SKU to P2\n",
    "- use output from part 2 to insert items into cart\n"
   ]
  },
  {
   "cell_type": "code",
   "execution_count": 8,
   "metadata": {
    "ExecuteTime": {
     "end_time": "2022-08-01T00:53:42.204934Z",
     "start_time": "2022-08-01T00:53:40.156460Z"
    },
    "code_folding": [
     0
    ],
    "collapsed": true
   },
   "outputs": [
    {
     "name": "stdout",
     "output_type": "stream",
     "text": [
      "Defaulting to user installation because normal site-packages is not writeable\n",
      "Collecting tqdm\n",
      "  Downloading tqdm-4.64.0-py2.py3-none-any.whl (78 kB)\n",
      "Requirement already satisfied: colorama; platform_system == \"Windows\" in c:\\program files (x86)\\python37-32\\lib\\site-packages (from tqdm) (0.4.4)\n",
      "Installing collected packages: tqdm\n",
      "Successfully installed tqdm-4.64.0\n"
     ]
    },
    {
     "name": "stderr",
     "output_type": "stream",
     "text": [
      "WARNING: pip is being invoked by an old script wrapper. This will fail in a future version of pip.\n",
      "Please see https://github.com/pypa/pip/issues/5599 for advice on fixing the underlying issue.\n",
      "To avoid this problem you can invoke Python with '-m pip' instead of running pip directly.\n",
      "  WARNING: The script tqdm.exe is installed in 'C:\\Users\\ernes\\AppData\\Roaming\\Python\\Python37\\Scripts' which is not on PATH.\n",
      "  Consider adding this directory to PATH or, if you prefer to suppress this warning, use --no-warn-script-location.\n",
      "WARNING: You are using pip version 20.2.4; however, version 22.2.1 is available.\n",
      "You should consider upgrading via the 'c:\\program files (x86)\\python37-32\\python.exe -m pip install --upgrade pip' command.\n"
     ]
    }
   ],
   "source": [
    "# !pip install lxml\n",
    "# !pip install BeautifulSoup4\n",
    "# !pip install tqdm\n",
    "# !pip install google-sheets-to-csv"
   ]
  },
  {
   "cell_type": "code",
   "execution_count": 3,
   "metadata": {
    "ExecuteTime": {
     "end_time": "2022-08-05T15:46:10.512442Z",
     "start_time": "2022-08-05T15:46:08.448677Z"
    },
    "scrolled": true
   },
   "outputs": [],
   "source": [
    "import selenium\n",
    "from selenium import webdriver\n",
    "from selenium.webdriver.support.ui import Select\n",
    "from selenium.webdriver.support.ui import WebDriverWait\n",
    "from selenium.webdriver.support import expected_conditions as EC\n",
    "from selenium.webdriver.common.by import By\n",
    "\n",
    "import requests\n",
    "from lxml import html\n",
    "from bs4 import BeautifulSoup \n",
    "\n",
    "import time\n",
    "from datetime import datetime\n",
    "from time import sleep, localtime, strftime\n",
    "\n",
    "import json \n",
    "import numpy as np\n",
    "import pandas as pd \n",
    "from tqdm import tqdm\n",
    "\n",
    "import os\n",
    "import os.path\n",
    "import re\n",
    "\n",
    "from selenium.webdriver.chrome.options import Options\n",
    "chrome_options = Options()\n",
    "chrome_options.add_argument(\"--enable-javascript\")\n",
    "# chrome_options.add_argument(\"--headless\")\n",
    "# driver = webdriver.Chrome(options=chrome_options)"
   ]
  },
  {
   "cell_type": "code",
   "execution_count": 27,
   "metadata": {
    "ExecuteTime": {
     "end_time": "2022-08-05T16:07:52.528630Z",
     "start_time": "2022-08-05T16:07:51.113201Z"
    }
   },
   "outputs": [],
   "source": [
    "# initiate website webdriver and navigate to portal\n",
    "driver = webdriver.Chrome('./chromedriver.exe', options = chrome_options)\n",
    "driver.set_window_size(1920, 960)"
   ]
  },
  {
   "cell_type": "code",
   "execution_count": 96,
   "metadata": {
    "ExecuteTime": {
     "end_time": "2022-08-05T17:36:05.945999Z",
     "start_time": "2022-08-05T17:36:05.936000Z"
    },
    "code_folding": []
   },
   "outputs": [],
   "source": [
    "# set user credentials\n",
    "def sign_in():\n",
    "    \n",
    "    user_ = username\n",
    "    pass_ = password\n",
    "\n",
    "    driver.get('https://strategicsales.lululemon.com/ca')\n",
    "\n",
    "    # login with credentials\n",
    "    username = driver.find_element_by_name('ShopLoginForm_Login')\n",
    "    username.send_keys(user_)\n",
    "\n",
    "    password = driver.find_element_by_name('ShopLoginForm_Password')\n",
    "    time.sleep(2)\n",
    "    password.send_keys(pass_)\n",
    "\n",
    "    sign_in = driver.find_element_by_name('login')\n",
    "    sign_in.click()\n",
    "\n",
    "    wait = WebDriverWait(driver, 10)\n",
    "    wait.until(EC.element_to_be_clickable((By.CLASS_NAME, 'caret')))\n",
    "\n",
    "    # select an address\n",
    "    addressdropdown_xpath= '//*[@id=\"shipto-form\"]/div[1]/div/div/button/span[2]/span'\n",
    "    address_xpath='//*[@id=\"shipto-form\"]/div[1]/div/div/div/ul/li[4]/a/span[2]'\n",
    "    address_continue_xpath = '//*[@id=\"shipto-form\"]/div[2]/button'\n",
    "\n",
    "    sleep(2)\n",
    "    driver.find_element_by_xpath(addressdropdown_xpath).click()\n",
    "    sleep(1)\n",
    "    driver.find_element_by_xpath(address_xpath).click()\n",
    "    sleep(1)\n",
    "    driver.find_element_by_xpath(address_continue_xpath).click()"
   ]
  },
  {
   "cell_type": "code",
   "execution_count": 97,
   "metadata": {
    "ExecuteTime": {
     "end_time": "2022-08-05T17:36:14.796922Z",
     "start_time": "2022-08-05T17:36:06.327190Z"
    }
   },
   "outputs": [],
   "source": [
    "sign_in()"
   ]
  },
  {
   "cell_type": "markdown",
   "metadata": {},
   "source": [
    "## 1. Get all items currently in stock"
   ]
  },
  {
   "cell_type": "code",
   "execution_count": 3,
   "metadata": {
    "ExecuteTime": {
     "end_time": "2022-08-02T00:05:38.360964Z",
     "start_time": "2022-08-02T00:05:38.343963Z"
    },
    "code_folding": [
     0
    ]
   },
   "outputs": [],
   "source": [
    "def get_item_name_price(pagination_xpath:str, items=['Womens', 'Mens']):\n",
    "    \n",
    "    gender_names_prices = []\n",
    "    \n",
    "    for gender in items:\n",
    "\n",
    "        if gender == 'Womens':\n",
    "\n",
    "            womens_xpath = '//*[@id=\"globalnav\"]/div/div/div[1]/ul/li[2]/a[1]'\n",
    "            driver.find_element_by_xpath(womens_xpath).click()\n",
    "            wait.until(EC.presence_of_element_located((By.ID, 'product-search-result')))\n",
    "            print('Found element...')\n",
    "\n",
    "        elif gender == 'Mens':\n",
    "\n",
    "            mens_xpath = '//*[@id=\"globalnav\"]/div/div/div[1]/ul/li[3]/a[1]'\n",
    "            driver.find_element_by_xpath(mens_xpath).click()\n",
    "            wait.until(EC.presence_of_element_located((By.ID, 'product-search-result')))\n",
    "            print('Found element...')\n",
    "        \n",
    "        print(f'Retrieving data for {gender} items.')\n",
    "        \n",
    "        sleep(2)\n",
    "        page_source = driver.page_source\n",
    "        soup = BeautifulSoup(page_source)\n",
    "\n",
    "        sleep(2)\n",
    "        max_page = sorted(list(set(soup.find(class_='pagination-site-list').get_text(strip = True)\\\n",
    "        .replace('to page', '').replace('of', '').replace('«', '').replace('»', ''))))[-1]\n",
    "\n",
    "        print(f'Max pages for {gender} items is {int(max_page)+1}.')\n",
    "\n",
    "        for i in tqdm(range(1, int(max_page) + 2)):\n",
    "            \n",
    "            print('Now on page: ', i)\n",
    "\n",
    "            wait.until(EC.presence_of_element_located((By.ID, 'product-search-result')))\n",
    "            # wait.until(EC.presence_of_element_located((By.CLASS_NAME, 'view-all')))\n",
    "            page_source = driver.page_source\n",
    "            soup = BeautifulSoup(page_source)\n",
    "            \n",
    "\n",
    "            for name, price in list(zip(soup.find_all(class_='product-title'), \n",
    "                                              soup.find_all(class_='wholesale-price'))):\n",
    "\n",
    "                gender_names_prices.append(((gender),\n",
    "                                            name.get_text(strip = True), \n",
    "                                            price.get_text(strip = True).replace('Wholesale Price:$', ''),\n",
    "                                            name['href']))\n",
    "\n",
    "\n",
    "            if i == int(max_page)+1:\n",
    "                break\n",
    "            else:\n",
    "                retry_attempts = 0\n",
    "                while retry_attempts < 5:\n",
    "                    try:\n",
    "                        wait.until(EC.presence_of_element_located((By.ID, 'product-search-result')))\n",
    "                        # wait.until(EC.presence_of_element_located((By.CLASS_NAME, 'view-all')))\n",
    "                        driver.find_element_by_xpath(pagination_xpath).click()\n",
    "                        sleep(2)\n",
    "                        break\n",
    "                    except:\n",
    "                        print('Could not find next page link. Retrying...')\n",
    "                        retry_attempts +=1\n",
    "                        print(retry_attempts)\n",
    "\n",
    "            # print('Moving to next page...')\n",
    "        \n",
    "    print('All item data retrieved.')\n",
    "    \n",
    "    item_df = pd.DataFrame(data = gender_names_prices, columns = ['Gender', 'Item_name', 'Price', 'link'])\n",
    "    item_df_dd = item_df.drop_duplicates().reset_index(drop=True)\n",
    "    \n",
    "    from time import localtime\n",
    "    localtime = (strftime(\"%Y-%m-%d %H:%M:%S\", localtime()))  \n",
    "    localtime_trf = localtime.replace('-', '_').replace(':', '_')\n",
    "    \n",
    "    item_df_dd.to_csv(f'Current_selection_luluelemon_items_{items[0]}_{localtime_trf}.csv')\n",
    "    \n",
    "    # driver.quit()\n",
    "    \n",
    "    return item_df_dd"
   ]
  },
  {
   "cell_type": "code",
   "execution_count": 15,
   "metadata": {
    "ExecuteTime": {
     "end_time": "2022-08-01T04:21:26.061165Z",
     "start_time": "2022-08-01T04:20:58.061217Z"
    },
    "collapsed": true
   },
   "outputs": [
    {
     "name": "stdout",
     "output_type": "stream",
     "text": [
      "Found element...\n",
      "Retrieving data for Womens items.\n",
      "Max pages for Womens items is 10.\n"
     ]
    },
    {
     "name": "stderr",
     "output_type": "stream",
     "text": [
      "\r",
      "  0%|                                                                                           | 0/10 [00:00<?, ?it/s]"
     ]
    },
    {
     "name": "stdout",
     "output_type": "stream",
     "text": [
      "Now on page:  1\n"
     ]
    },
    {
     "name": "stderr",
     "output_type": "stream",
     "text": [
      "\r",
      " 10%|████████▎                                                                          | 1/10 [00:02<00:21,  2.36s/it]"
     ]
    },
    {
     "name": "stdout",
     "output_type": "stream",
     "text": [
      "Now on page:  2\n"
     ]
    },
    {
     "name": "stderr",
     "output_type": "stream",
     "text": [
      "\r",
      " 20%|████████████████▌                                                                  | 2/10 [00:04<00:18,  2.37s/it]"
     ]
    },
    {
     "name": "stdout",
     "output_type": "stream",
     "text": [
      "Now on page:  3\n"
     ]
    },
    {
     "name": "stderr",
     "output_type": "stream",
     "text": [
      "\r",
      " 30%|████████████████████████▉                                                          | 3/10 [00:07<00:16,  2.36s/it]"
     ]
    },
    {
     "name": "stdout",
     "output_type": "stream",
     "text": [
      "Now on page:  4\n"
     ]
    },
    {
     "name": "stderr",
     "output_type": "stream",
     "text": [
      "\r",
      " 40%|█████████████████████████████████▏                                                 | 4/10 [00:09<00:14,  2.36s/it]"
     ]
    },
    {
     "name": "stdout",
     "output_type": "stream",
     "text": [
      "Now on page:  5\n"
     ]
    },
    {
     "name": "stderr",
     "output_type": "stream",
     "text": [
      "\r",
      " 50%|█████████████████████████████████████████▌                                         | 5/10 [00:11<00:11,  2.36s/it]"
     ]
    },
    {
     "name": "stdout",
     "output_type": "stream",
     "text": [
      "Now on page:  6\n"
     ]
    },
    {
     "name": "stderr",
     "output_type": "stream",
     "text": [
      "\r",
      " 60%|█████████████████████████████████████████████████▊                                 | 6/10 [00:14<00:09,  2.37s/it]"
     ]
    },
    {
     "name": "stdout",
     "output_type": "stream",
     "text": [
      "Now on page:  7\n"
     ]
    },
    {
     "name": "stderr",
     "output_type": "stream",
     "text": [
      "\r",
      " 70%|██████████████████████████████████████████████████████████                         | 7/10 [00:16<00:07,  2.37s/it]"
     ]
    },
    {
     "name": "stdout",
     "output_type": "stream",
     "text": [
      "Now on page:  8\n"
     ]
    },
    {
     "name": "stderr",
     "output_type": "stream",
     "text": [
      "\r",
      " 80%|██████████████████████████████████████████████████████████████████▍                | 8/10 [00:18<00:04,  2.37s/it]"
     ]
    },
    {
     "name": "stdout",
     "output_type": "stream",
     "text": [
      "Now on page:  9\n"
     ]
    },
    {
     "name": "stderr",
     "output_type": "stream",
     "text": [
      " 90%|██████████████████████████████████████████████████████████████████████████▋        | 9/10 [00:21<00:02,  2.38s/it]\n"
     ]
    },
    {
     "name": "stdout",
     "output_type": "stream",
     "text": [
      "Now on page:  10\n",
      "All item data retrieved.\n",
      "Wall time: 28 s\n"
     ]
    }
   ],
   "source": [
    "%%time\n",
    "womens_items = get_item_name_price('//*[@id=\"categoryPaginationOnly\"]/div/div/div[2]/ul/li[12]/a', items=['Womens'])\n",
    "mens_items = get_item_name_price('//*[@id=\"categoryPagination\"]/div/div[1]/div[2]/ul/li[9]/a', items=['Mens'])"
   ]
  },
  {
   "cell_type": "markdown",
   "metadata": {},
   "source": [
    "## 2. Get SKUs per item colour and size combination"
   ]
  },
  {
   "cell_type": "code",
   "execution_count": 19,
   "metadata": {
    "ExecuteTime": {
     "end_time": "2022-08-02T00:12:49.688723Z",
     "start_time": "2022-08-02T00:12:49.660796Z"
    }
   },
   "outputs": [],
   "source": [
    "mens_items = pd.read_csv('Current_selection_luluelemon_items_Mens_2022_08_01 00_26_36.csv').drop('Unnamed: 0', axis=1)\n",
    "womens_items = pd.read_csv('Current_selection_luluelemon_items_Womens_2022_08_01 00_21_23.csv').drop('Unnamed: 0', axis=1)"
   ]
  },
  {
   "cell_type": "code",
   "execution_count": 342,
   "metadata": {
    "ExecuteTime": {
     "end_time": "2022-08-02T04:48:25.605040Z",
     "start_time": "2022-08-02T04:48:25.580407Z"
    },
    "code_folding": [
     0
    ]
   },
   "outputs": [],
   "source": [
    "def get_inventoryinfo(df, gender:str):\n",
    "   \n",
    "    df_main = pd.DataFrame(columns = ['Item', 'Type', 'Colour', 'Size', 'Price', 'InventoryAvailability', 'SKU'])\n",
    "    \n",
    "    gender_name_prices = df.values.tolist()\n",
    "    counter = 0\n",
    "    \n",
    "    try:\n",
    "        for name in tqdm(gender_name_prices):\n",
    "\n",
    "            try:\n",
    "                print(f'Entering page for {name[1]}, item num: {counter}')\n",
    "            #         wait.until(EC.presence_of_element_located((By.ID, 'product-search-result')))\n",
    "            #         wait.until(EC.presence_of_element_located((By.CLASS_NAME, 'view-all')))\n",
    "                time.sleep(2)\n",
    "                driver.get(name[3])\n",
    "                print('Finding element on page...')\n",
    "                wait.until(EC.presence_of_element_located((By.ID, 'addgroupproductbutton')))\n",
    "                print('Element found...')\n",
    "                print('Extracting HTML...')\n",
    "                item_page_source = driver.page_source\n",
    "                item_soup = BeautifulSoup(item_page_source)\n",
    "\n",
    "                # get a list of SKUs\n",
    "                SKU_list = []\n",
    "                for i in item_soup.find_all('input'):\n",
    "\n",
    "                    # print(i)\n",
    "                    if i['name']=='SKU':\n",
    "                        SKU_list.append(i['value'])\n",
    "\n",
    "                # SKU_list\n",
    "                table = item_soup.find_all('table')\n",
    "                df = pd.read_html(str(table))[0]\n",
    "                df.columns = df.columns.droplevel()\n",
    "                df = df.iloc[:-1, 1:-1]\n",
    "\n",
    "                col_list = df.columns.tolist()\n",
    "                col_list[0] = 'Colour'\n",
    "                col_list[1] = 'Availability'\n",
    "                \n",
    "                # used to retain order of cols\n",
    "                if 'S' in col_list or 'M' in col_list or 'L' in col_list:\n",
    "                    col_list = [f'{y}' + x if x != 'Colour' and x != 'Availability' else x \n",
    "                                for x, y in list(zip(col_list, range(len(col_list))))]\n",
    "                    \n",
    "                if '10' in col_list or '12' in col_list or '14' in col_list:\n",
    "                    col_list = [f'{y}' + x if x != 'Colour' and x != 'Availability' and y <= 9 \n",
    "                                else '9' + x if x != 'Colour' and x != 'Availability' else x   \n",
    "                                for x, y in list(zip(col_list, range(len(col_list))))]\n",
    "                    \n",
    "                col_list = ['Inventory' + x if x != 'Colour' else x for x in col_list]\n",
    "                df.columns = col_list\n",
    "\n",
    "                df1 = []\n",
    "                for i in df.Colour.values:\n",
    "\n",
    "                    df1.append(pd.wide_to_long(df[df['Colour']==i], \n",
    "                                stubnames = ['Availability', 'Inventory'], \n",
    "                                i = 'Colour', j = 'Size', suffix=r'\\w+'))\n",
    "\n",
    "                df=pd.concat(df1)\n",
    "\n",
    "                df['Inventory'] = df['Inventory'].fillna(0.0).replace('Available', 0.0)\n",
    "                df['InventoryAvailability'] = df['Inventory'].apply(lambda x: ['Not Available' if x == 0.0 else 'Available'][0])\n",
    "\n",
    "                # add item name as column\n",
    "                df = df.reset_index()\n",
    "                df['Type'] = name[0]\n",
    "                df['Price'] = name[2]\n",
    "                df['Item'] = name[1]\n",
    "                cols = list(df.columns)\n",
    "                cols = [cols[-1]] + cols[:-1]\n",
    "                df = df[cols]\n",
    "\n",
    "                # filter out items not Availabe\n",
    "                df = df[df['InventoryAvailability'] != 'Not Available']\n",
    "\n",
    "                # Add SKU per item\n",
    "\n",
    "                print(f'Adding SKUs for {name[1]}')\n",
    "                df['SKU'] = SKU_list[:df.shape[0]]\n",
    "                if len([x[0] for x in [re.findall(r\"([1-9]|[0-1][0-2])[A-Z]{1}\", x) for x in col_list] if x != []]) != 0:\n",
    "                    # df['Size'] = df['Size'].apply(lambda x: [x[1:] if len(re.findall(r\"([1-9]|[0-1][0-2])[A-Z]{1}\", x)[0])<= 1 else x[2:]][0])\n",
    "                    df['Size'] = df['Size'].apply(lambda x: x[1:])\n",
    "                if len([x[0] for x in [re.findall(r\"\\d{2}\", x) for x in col_list] if x != []]) != 0:\n",
    "                    # df['Size'] = df['Size'].apply(lambda x: [x[1:] if len(re.findall(r\"\\d{2}\", x)[0])<=1 else x[2:]][0])\n",
    "                    if gender == 'mens':\n",
    "                        df['Size'] = df['Size'].apply(lambda x: x[1:] if '9' in x else x)\n",
    "                    else:\n",
    "                        df['Size'] = df['Size'].apply(lambda x: x[1:])\n",
    "                        \n",
    "                df_main = pd.concat([df, df_main])\n",
    "                \n",
    "\n",
    "                print(f'Successfully added info for {name[1]}')\n",
    "                counter +=1\n",
    "\n",
    "        #         driver.back()\n",
    "        #         wait.until(EC.presence_of_element_located((By.ID, 'product-search-result')))\n",
    "        #         print('Found element...moving to next item')\n",
    "            except Exception as e:\n",
    "                print(e)\n",
    "                pass\n",
    "    \n",
    "    except Exception as e:\n",
    "        print(e)\n",
    "        pass\n",
    "\n",
    "    from time import localtime\n",
    "    localtime = (strftime(\"%Y-%m-%d %H:%M:%S\", localtime()))  \n",
    "    localtime_trf = localtime.replace('-', '_').replace(':', '_')\n",
    "\n",
    "    # df_main = df_main.drop('Availability', axis=1)\n",
    "    df_main.to_csv(f'inventoryinfo_{gender}.csv')\n",
    "\n",
    "    return df_main"
   ]
  },
  {
   "cell_type": "code",
   "execution_count": 332,
   "metadata": {
    "ExecuteTime": {
     "end_time": "2022-08-02T04:25:27.334163Z",
     "start_time": "2022-08-02T04:25:23.623504Z"
    },
    "code_folding": [
     0
    ],
    "collapsed": true
   },
   "outputs": [
    {
     "name": "stderr",
     "output_type": "stream",
     "text": [
      "\r",
      "  0%|                                                                                            | 0/1 [00:00<?, ?it/s]"
     ]
    },
    {
     "name": "stdout",
     "output_type": "stream",
     "text": [
      "Entering page for ABC Pant Classic-Fit *Warpstreme 32\", item num: 0\n",
      "Finding element on page...\n",
      "Element found...\n",
      "Extracting HTML...\n"
     ]
    },
    {
     "name": "stderr",
     "output_type": "stream",
     "text": [
      "100%|████████████████████████████████████████████████████████████████████████████████████| 1/1 [00:03<00:00,  3.69s/it]\n"
     ]
    }
   ],
   "source": [
    "# df_main = pd.DataFrame(columns = ['Item', 'Type', 'Colour', 'Size', 'Price', 'InventoryAvailability', 'SKU'])\n",
    "\n",
    "# gender_name_prices = mens_items[0:1].values.tolist()\n",
    "# counter = 0\n",
    "# gender = 'Mens'\n",
    "\n",
    "# for name in tqdm(gender_name_prices):\n",
    "\n",
    "#     print(f'Entering page for {name[1]}, item num: {counter}')\n",
    "# #         wait.until(EC.presence_of_element_located((By.ID, 'product-search-result')))\n",
    "# #         wait.until(EC.presence_of_element_located((By.CLASS_NAME, 'view-all')))\n",
    "#     time.sleep(2)\n",
    "#     driver.get(name[3])\n",
    "#     print('Finding element on page...')\n",
    "#     wait.until(EC.presence_of_element_located((By.ID, 'addgroupproductbutton')))\n",
    "#     print('Element found...')\n",
    "#     print('Extracting HTML...')\n",
    "#     item_page_source = driver.page_source\n",
    "#     item_soup = BeautifulSoup(item_page_source)\n",
    "\n",
    "#     # get a list of SKUs\n",
    "#     SKU_list = []\n",
    "#     for i in item_soup.find_all('input'):\n",
    "\n",
    "#         # print(i)\n",
    "#         if i['name']=='SKU':\n",
    "#             SKU_list.append(i['value'])\n",
    "            \n",
    "#     # SKU_list\n",
    "#     table = item_soup.find_all('table')\n",
    "#     df = pd.read_html(str(table))[0]\n",
    "#     df.columns = df.columns.droplevel()\n",
    "#     df = df.iloc[:-1, 1:-1]\n",
    "    \n",
    "#     col_list = df.columns.tolist()\n",
    "#     col_list[0] = 'Colour'\n",
    "#     col_list[1] = 'Availability'\n",
    "# #     if 'S' in col_list or 'M' in col_list or 'L' in col_list:\n",
    "# #         col_list = [f'{y}' + x if x != 'Colour' and x != 'Availability' else x for x, y in list(zip(col_list, range(len(col_list))))]\n",
    "        \n",
    "# #     if '10' in col_list or '12' in col_list or '14' in col_list:\n",
    "# #         col_list = [f'{y}' + x if x != 'Colour' and x != 'Availability' else x for x, y in list(zip(col_list, range(len(col_list))))]\n",
    "\n",
    "#     if 'S' in col_list or 'M' in col_list or 'L' in col_list:\n",
    "#         col_list = [f'{y}' + x if x != 'Colour' and x != 'Availability' else x \n",
    "#                     for x, y in list(zip(col_list, range(len(col_list))))]\n",
    "\n",
    "#     if '10' in col_list or '12' in col_list or '14' in col_list or '30' in col_list or :\n",
    "#         col_list = [f'{y}' + x if x != 'Colour' and x != 'Availability' and y <= 9 \n",
    "#                     else '9' + x if x != 'Colour' and x != 'Availability' else x   \n",
    "#                     for x, y in list(zip(col_list, range(len(col_list))))]\n",
    "\n",
    "#     col_list = ['Inventory' + x if x != 'Colour' else x for x in col_list]\n",
    "#     df.columns = col_list\n",
    "\n",
    "#     df1 = []\n",
    "#     for i in df.Colour.values:\n",
    "\n",
    "#         df1.append(pd.wide_to_long(df[df['Colour']==i], \n",
    "#                     stubnames = ['Availability', 'Inventory'], \n",
    "#                     i = 'Colour', j = 'Size', suffix=r'\\w+'))\n",
    "\n",
    "#     df=pd.concat(df1)\n",
    "\n",
    "#     df['Inventory'] = df['Inventory'].fillna(0.0).replace('Available', 0.0)\n",
    "#     df['InventoryAvailability'] = df['Inventory'].apply(lambda x: ['Not Available' if x == 0.0 else 'Available'][0])\n",
    "\n",
    "#     # add item name as column\n",
    "#     df = df.reset_index()\n",
    "#     df['Type'] = name[0]\n",
    "#     df['Price'] = name[2]\n",
    "#     df['Item'] = name[1]\n",
    "#     cols = list(df.columns)\n",
    "#     cols = [cols[-1]] + cols[:-1]\n",
    "#     df = df[cols]\n",
    "\n",
    "#     # filter out items not Availabe\n",
    "#     df = df[df['InventoryAvailability'] != 'Not Available']\n",
    "\n",
    "#     # Add SKU per item\n",
    "\n",
    "# print(f'Adding SKUs for {name[1]}')\n",
    "# df['SKU'] = SKU_list[:df.shape[0]]\n",
    "# df_main = pd.concat([df, df_main])\n",
    "# if 'Inventory2S' in col_list or 'Inventory3M' in col_list or 'Inventory4L' in col_list:\n",
    "#     df_main['Size'] = df_main['Size'].apply(lambda x: x[1:])\n",
    "# if 'Inventory22' in col_list or 'Inventory45' in col_list:\n",
    "#     df_main['Size'] = df_main['Size'].apply(lambda x: x[1:])\n",
    "\n",
    "# print(f'Successfully added info for {name[1]}')"
   ]
  },
  {
   "cell_type": "code",
   "execution_count": 338,
   "metadata": {
    "ExecuteTime": {
     "end_time": "2022-08-02T04:33:40.711604Z",
     "start_time": "2022-08-02T04:28:35.025613Z"
    },
    "code_folding": [],
    "collapsed": true
   },
   "outputs": [
    {
     "name": "stderr",
     "output_type": "stream",
     "text": [
      "\r",
      "  0%|                                                                                           | 0/94 [00:00<?, ?it/s]"
     ]
    },
    {
     "name": "stdout",
     "output_type": "stream",
     "text": [
      "Entering page for ABC Pant Classic-Fit *Warpstreme 32\", item num: 0\n",
      "Finding element on page...\n",
      "Element found...\n",
      "Extracting HTML...\n"
     ]
    },
    {
     "name": "stderr",
     "output_type": "stream",
     "text": [
      "\r",
      "  1%|▉                                                                                  | 1/94 [00:03<05:36,  3.62s/it]"
     ]
    },
    {
     "name": "stdout",
     "output_type": "stream",
     "text": [
      "Adding SKUs for ABC Pant Classic-Fit *Warpstreme 32\"\n",
      "Successfully added info for ABC Pant Classic-Fit *Warpstreme 32\"\n",
      "Entering page for ABC Pant Classic-Fit *Warpstreme 34\", item num: 1\n",
      "Finding element on page...\n",
      "Element found...\n",
      "Extracting HTML...\n"
     ]
    },
    {
     "name": "stderr",
     "output_type": "stream",
     "text": [
      "\r",
      "  2%|█▊                                                                                 | 2/94 [00:07<06:11,  4.03s/it]"
     ]
    },
    {
     "name": "stdout",
     "output_type": "stream",
     "text": [
      "Adding SKUs for ABC Pant Classic-Fit *Warpstreme 34\"\n",
      "Successfully added info for ABC Pant Classic-Fit *Warpstreme 34\"\n",
      "Entering page for ABC Jogger *Warpstreme 30\", item num: 2\n",
      "Finding element on page...\n"
     ]
    },
    {
     "name": "stderr",
     "output_type": "stream",
     "text": [
      "\r",
      "  3%|██▋                                                                                | 3/94 [00:11<05:30,  3.63s/it]"
     ]
    },
    {
     "name": "stdout",
     "output_type": "stream",
     "text": [
      "Element found...\n",
      "Extracting HTML...\n",
      "Adding SKUs for ABC Jogger *Warpstreme 30\"\n",
      "Successfully added info for ABC Jogger *Warpstreme 30\"\n",
      "Entering page for ABC Jogger *Warpstreme 30\", item num: 3\n",
      "Finding element on page...\n"
     ]
    },
    {
     "name": "stderr",
     "output_type": "stream",
     "text": [
      "\r",
      "  4%|███▌                                                                               | 4/94 [00:14<05:14,  3.50s/it]"
     ]
    },
    {
     "name": "stdout",
     "output_type": "stream",
     "text": [
      "Element found...\n",
      "Extracting HTML...\n",
      "Adding SKUs for ABC Jogger *Warpstreme 30\"\n",
      "Successfully added info for ABC Jogger *Warpstreme 30\"\n",
      "Entering page for ABC Jogger Tall *Warpstreme 32\", item num: 4\n",
      "Finding element on page...\n"
     ]
    },
    {
     "name": "stderr",
     "output_type": "stream",
     "text": [
      "\r",
      "  5%|████▍                                                                              | 5/94 [00:17<05:02,  3.40s/it]"
     ]
    },
    {
     "name": "stdout",
     "output_type": "stream",
     "text": [
      "Element found...\n",
      "Extracting HTML...\n",
      "Adding SKUs for ABC Jogger Tall *Warpstreme 32\"\n",
      "Successfully added info for ABC Jogger Tall *Warpstreme 32\"\n",
      "Entering page for ABC Jogger Tall *Warpstreme 32\", item num: 5\n",
      "Finding element on page...\n"
     ]
    },
    {
     "name": "stderr",
     "output_type": "stream",
     "text": [
      "\r",
      "  6%|█████▎                                                                             | 6/94 [00:20<04:55,  3.35s/it]"
     ]
    },
    {
     "name": "stdout",
     "output_type": "stream",
     "text": [
      "Element found...\n",
      "Extracting HTML...\n",
      "Adding SKUs for ABC Jogger Tall *Warpstreme 32\"\n",
      "Successfully added info for ABC Jogger Tall *Warpstreme 32\"\n",
      "Entering page for ABC Pant Classic-Fit *Warpstreme 32\", item num: 6\n",
      "Finding element on page...\n",
      "Element found...\n",
      "Extracting HTML...\n"
     ]
    },
    {
     "name": "stderr",
     "output_type": "stream",
     "text": [
      "\r",
      "  7%|██████▏                                                                            | 7/94 [00:24<04:57,  3.41s/it]"
     ]
    },
    {
     "name": "stdout",
     "output_type": "stream",
     "text": [
      "Adding SKUs for ABC Pant Classic-Fit *Warpstreme 32\"\n",
      "Successfully added info for ABC Pant Classic-Fit *Warpstreme 32\"\n",
      "Entering page for ABC Pant Classic-Fit *Warpstreme 34\", item num: 7\n",
      "Finding element on page...\n",
      "Element found...\n",
      "Extracting HTML...\n"
     ]
    },
    {
     "name": "stderr",
     "output_type": "stream",
     "text": [
      "\r",
      "  9%|███████                                                                            | 8/94 [00:28<05:13,  3.64s/it]"
     ]
    },
    {
     "name": "stdout",
     "output_type": "stream",
     "text": [
      "Adding SKUs for ABC Pant Classic-Fit *Warpstreme 34\"\n",
      "Successfully added info for ABC Pant Classic-Fit *Warpstreme 34\"\n",
      "Entering page for ABC Pant Classic-Fit *Warpstreme 34\", item num: 8\n",
      "Finding element on page...\n"
     ]
    },
    {
     "name": "stderr",
     "output_type": "stream",
     "text": [
      "\r",
      " 10%|███████▉                                                                           | 9/94 [00:31<05:00,  3.54s/it]"
     ]
    },
    {
     "name": "stdout",
     "output_type": "stream",
     "text": [
      "Element found...\n",
      "Extracting HTML...\n",
      "Adding SKUs for ABC Pant Classic-Fit *Warpstreme 34\"\n",
      "Successfully added info for ABC Pant Classic-Fit *Warpstreme 34\"\n",
      "Entering page for ABC Pant Classic-Fit *Warpstreme 37\", item num: 9\n",
      "Finding element on page...\n",
      "Element found...\n",
      "Extracting HTML...\n"
     ]
    },
    {
     "name": "stderr",
     "output_type": "stream",
     "text": [
      "\r",
      " 11%|████████▋                                                                         | 10/94 [00:35<05:11,  3.70s/it]"
     ]
    },
    {
     "name": "stdout",
     "output_type": "stream",
     "text": [
      "Adding SKUs for ABC Pant Classic-Fit *Warpstreme 37\"\n",
      "Successfully added info for ABC Pant Classic-Fit *Warpstreme 37\"\n",
      "Entering page for ABC Pant Classic-Fit *Warpstreme 37\", item num: 10\n",
      "Finding element on page...\n"
     ]
    },
    {
     "name": "stderr",
     "output_type": "stream",
     "text": [
      "\r",
      " 12%|█████████▌                                                                        | 11/94 [00:39<04:58,  3.59s/it]"
     ]
    },
    {
     "name": "stdout",
     "output_type": "stream",
     "text": [
      "Element found...\n",
      "Extracting HTML...\n",
      "Adding SKUs for ABC Pant Classic-Fit *Warpstreme 37\"\n",
      "Successfully added info for ABC Pant Classic-Fit *Warpstreme 37\"\n",
      "Entering page for ABC Pant Classic-Fit *Warpstreme 37\", item num: 11\n",
      "Finding element on page...\n",
      "Element found...\n",
      "Extracting HTML...\n"
     ]
    },
    {
     "name": "stderr",
     "output_type": "stream",
     "text": [
      "\r",
      " 13%|██████████▍                                                                       | 12/94 [00:43<05:05,  3.73s/it]"
     ]
    },
    {
     "name": "stdout",
     "output_type": "stream",
     "text": [
      "Adding SKUs for ABC Pant Classic-Fit *Warpstreme 37\"\n",
      "Successfully added info for ABC Pant Classic-Fit *Warpstreme 37\"\n",
      "Entering page for ABC Pant Slim-Fit *Warpstreme 32\", item num: 12\n",
      "Finding element on page...\n"
     ]
    },
    {
     "name": "stderr",
     "output_type": "stream",
     "text": [
      "\r",
      " 14%|███████████▎                                                                      | 13/94 [00:46<04:51,  3.60s/it]"
     ]
    },
    {
     "name": "stdout",
     "output_type": "stream",
     "text": [
      "Element found...\n",
      "Extracting HTML...\n",
      "Adding SKUs for ABC Pant Slim-Fit *Warpstreme 32\"\n",
      "Successfully added info for ABC Pant Slim-Fit *Warpstreme 32\"\n",
      "Entering page for ABC Pant Slim-Fit *Warpstreme 34\", item num: 13\n",
      "Finding element on page...\n"
     ]
    },
    {
     "name": "stderr",
     "output_type": "stream",
     "text": [
      "\r",
      " 15%|████████████▏                                                                     | 14/94 [00:50<04:45,  3.56s/it]"
     ]
    },
    {
     "name": "stdout",
     "output_type": "stream",
     "text": [
      "Element found...\n",
      "Extracting HTML...\n",
      "Adding SKUs for ABC Pant Slim-Fit *Warpstreme 34\"\n",
      "Successfully added info for ABC Pant Slim-Fit *Warpstreme 34\"\n",
      "Entering page for ABC Pant Slim-Fit *Warpstreme 37\", item num: 14\n",
      "Finding element on page...\n",
      "Element found...\n",
      "Extracting HTML...\n"
     ]
    },
    {
     "name": "stderr",
     "output_type": "stream",
     "text": [
      "\r",
      " 16%|█████████████                                                                     | 15/94 [00:54<04:52,  3.71s/it]"
     ]
    },
    {
     "name": "stdout",
     "output_type": "stream",
     "text": [
      "Adding SKUs for ABC Pant Slim-Fit *Warpstreme 37\"\n",
      "Successfully added info for ABC Pant Slim-Fit *Warpstreme 37\"\n",
      "Entering page for ABC Pant Slim-Fit *Warpstreme 37\", item num: 15\n",
      "Finding element on page...\n",
      "Element found...\n",
      "Extracting HTML...\n"
     ]
    },
    {
     "name": "stderr",
     "output_type": "stream",
     "text": [
      "\r",
      " 17%|█████████████▉                                                                    | 16/94 [00:57<04:44,  3.65s/it]"
     ]
    },
    {
     "name": "stdout",
     "output_type": "stream",
     "text": [
      "Adding SKUs for ABC Pant Slim-Fit *Warpstreme 37\"\n",
      "Successfully added info for ABC Pant Slim-Fit *Warpstreme 37\"\n",
      "Entering page for ABC Pant Slim-Fit *Warpstreme 32\", item num: 16\n",
      "Finding element on page...\n",
      "Element found...\n",
      "Extracting HTML...\n"
     ]
    },
    {
     "name": "stderr",
     "output_type": "stream",
     "text": [
      "\r",
      " 18%|██████████████▊                                                                   | 17/94 [01:01<04:42,  3.66s/it]"
     ]
    },
    {
     "name": "stdout",
     "output_type": "stream",
     "text": [
      "Adding SKUs for ABC Pant Slim-Fit *Warpstreme 32\"\n",
      "Successfully added info for ABC Pant Slim-Fit *Warpstreme 32\"\n",
      "Entering page for ABC Pant Slim-Fit *Warpstreme 34\", item num: 17\n",
      "Finding element on page...\n",
      "Element found...\n",
      "Extracting HTML...\n"
     ]
    },
    {
     "name": "stderr",
     "output_type": "stream",
     "text": [
      "\r",
      " 19%|███████████████▋                                                                  | 18/94 [01:05<04:50,  3.83s/it]"
     ]
    },
    {
     "name": "stdout",
     "output_type": "stream",
     "text": [
      "Adding SKUs for ABC Pant Slim-Fit *Warpstreme 34\"\n",
      "Successfully added info for ABC Pant Slim-Fit *Warpstreme 34\"\n",
      "Entering page for AIM Boxer Long, item num: 18\n",
      "Finding element on page...\n"
     ]
    },
    {
     "name": "stderr",
     "output_type": "stream",
     "text": [
      "\r",
      " 20%|████████████████▌                                                                 | 19/94 [01:08<04:35,  3.67s/it]"
     ]
    },
    {
     "name": "stdout",
     "output_type": "stream",
     "text": [
      "Element found...\n",
      "Extracting HTML...\n",
      "Adding SKUs for AIM Boxer Long\n",
      "Successfully added info for AIM Boxer Long\n",
      "Entering page for At Ease Hoodie, item num: 19\n",
      "Finding element on page...\n"
     ]
    },
    {
     "name": "stderr",
     "output_type": "stream",
     "text": [
      "\r",
      " 21%|█████████████████▍                                                                | 20/94 [01:12<04:21,  3.54s/it]"
     ]
    },
    {
     "name": "stdout",
     "output_type": "stream",
     "text": [
      "Element found...\n",
      "Extracting HTML...\n",
      "Adding SKUs for At Ease Hoodie\n",
      "Successfully added info for At Ease Hoodie\n",
      "Entering page for At Ease Jogger, item num: 20\n",
      "Finding element on page...\n"
     ]
    },
    {
     "name": "stderr",
     "output_type": "stream",
     "text": [
      "\r",
      " 22%|██████████████████▎                                                               | 21/94 [01:15<04:09,  3.42s/it]"
     ]
    },
    {
     "name": "stdout",
     "output_type": "stream",
     "text": [
      "Element found...\n",
      "Extracting HTML...\n",
      "Adding SKUs for At Ease Jogger\n",
      "Successfully added info for At Ease Jogger\n",
      "Entering page for City Sweat Crew, item num: 21\n",
      "Finding element on page...\n"
     ]
    },
    {
     "name": "stderr",
     "output_type": "stream",
     "text": [
      "\r",
      " 23%|███████████████████▏                                                              | 22/94 [01:18<03:56,  3.28s/it]"
     ]
    },
    {
     "name": "stdout",
     "output_type": "stream",
     "text": [
      "Element found...\n",
      "Extracting HTML...\n",
      "Adding SKUs for City Sweat Crew\n",
      "Successfully added info for City Sweat Crew\n",
      "Entering page for City Sweat Full Zip Hoodie (S-5XL), item num: 22\n",
      "Finding element on page...\n"
     ]
    },
    {
     "name": "stderr",
     "output_type": "stream",
     "text": [
      "\r",
      " 24%|████████████████████                                                              | 23/94 [01:21<03:46,  3.19s/it]"
     ]
    },
    {
     "name": "stdout",
     "output_type": "stream",
     "text": [
      "Element found...\n",
      "Extracting HTML...\n",
      "Adding SKUs for City Sweat Full Zip Hoodie (S-5XL)\n",
      "Successfully added info for City Sweat Full Zip Hoodie (S-5XL)\n",
      "Entering page for City Sweat Full Zip Hoodie (S-5XL), item num: 23\n",
      "Finding element on page...\n"
     ]
    },
    {
     "name": "stderr",
     "output_type": "stream",
     "text": [
      "\r",
      " 26%|████████████████████▉                                                             | 24/94 [01:24<03:41,  3.16s/it]"
     ]
    },
    {
     "name": "stdout",
     "output_type": "stream",
     "text": [
      "Element found...\n",
      "Extracting HTML...\n",
      "Adding SKUs for City Sweat Full Zip Hoodie (S-5XL)\n",
      "Successfully added info for City Sweat Full Zip Hoodie (S-5XL)\n",
      "Entering page for City Sweat Full Zip Hoodie (S-5XL), item num: 24\n",
      "Finding element on page...\n"
     ]
    },
    {
     "name": "stderr",
     "output_type": "stream",
     "text": [
      "\r",
      " 27%|█████████████████████▊                                                            | 25/94 [01:27<03:38,  3.17s/it]"
     ]
    },
    {
     "name": "stdout",
     "output_type": "stream",
     "text": [
      "Element found...\n",
      "Extracting HTML...\n",
      "Adding SKUs for City Sweat Full Zip Hoodie (S-5XL)\n",
      "Successfully added info for City Sweat Full Zip Hoodie (S-5XL)\n",
      "Entering page for City Sweat Jogger, item num: 25\n",
      "Finding element on page...\n"
     ]
    },
    {
     "name": "stderr",
     "output_type": "stream",
     "text": [
      "\r",
      " 28%|██████████████████████▋                                                           | 26/94 [01:30<03:32,  3.12s/it]"
     ]
    },
    {
     "name": "stdout",
     "output_type": "stream",
     "text": [
      "Element found...\n",
      "Extracting HTML...\n",
      "Adding SKUs for City Sweat Jogger\n",
      "Successfully added info for City Sweat Jogger\n",
      "Entering page for City Sweat Jogger *Tall (S-5XL), item num: 26\n",
      "Finding element on page...\n"
     ]
    },
    {
     "name": "stderr",
     "output_type": "stream",
     "text": [
      "\r",
      " 29%|███████████████████████▌                                                          | 27/94 [01:33<03:27,  3.09s/it]"
     ]
    },
    {
     "name": "stdout",
     "output_type": "stream",
     "text": [
      "Element found...\n",
      "Extracting HTML...\n",
      "Adding SKUs for City Sweat Jogger *Tall (S-5XL)\n",
      "Successfully added info for City Sweat Jogger *Tall (S-5XL)\n",
      "Entering page for City Sweat Jogger *Tall (S-5XL), item num: 27\n",
      "Finding element on page...\n",
      "Element found...\n",
      "Extracting HTML...\n"
     ]
    },
    {
     "name": "stderr",
     "output_type": "stream",
     "text": [
      "\r",
      " 30%|████████████████████████▍                                                         | 28/94 [01:36<03:25,  3.12s/it]"
     ]
    },
    {
     "name": "stdout",
     "output_type": "stream",
     "text": [
      "Adding SKUs for City Sweat Jogger *Tall (S-5XL)\n",
      "Successfully added info for City Sweat Jogger *Tall (S-5XL)\n",
      "Entering page for City Sweat Jogger *Tall (S-5XL), item num: 28\n",
      "Finding element on page...\n"
     ]
    },
    {
     "name": "stderr",
     "output_type": "stream",
     "text": [
      "\r",
      " 31%|█████████████████████████▎                                                        | 29/94 [01:39<03:22,  3.12s/it]"
     ]
    },
    {
     "name": "stdout",
     "output_type": "stream",
     "text": [
      "Element found...\n",
      "Extracting HTML...\n",
      "Adding SKUs for City Sweat Jogger *Tall (S-5XL)\n",
      "Successfully added info for City Sweat Jogger *Tall (S-5XL)\n",
      "Entering page for City Sweat Jogger 30\" (S-5XL), item num: 29\n",
      "Finding element on page...\n"
     ]
    },
    {
     "name": "stderr",
     "output_type": "stream",
     "text": [
      "\r",
      " 32%|██████████████████████████▏                                                       | 30/94 [01:42<03:20,  3.14s/it]"
     ]
    },
    {
     "name": "stdout",
     "output_type": "stream",
     "text": [
      "Element found...\n",
      "Extracting HTML...\n",
      "Adding SKUs for City Sweat Jogger 30\" (S-5XL)\n",
      "Successfully added info for City Sweat Jogger 30\" (S-5XL)\n",
      "Entering page for City Sweat Jogger 30\" (S-5XL), item num: 30\n",
      "Finding element on page...\n"
     ]
    },
    {
     "name": "stderr",
     "output_type": "stream",
     "text": [
      "\r",
      " 33%|███████████████████████████                                                       | 31/94 [01:46<03:17,  3.14s/it]"
     ]
    },
    {
     "name": "stdout",
     "output_type": "stream",
     "text": [
      "Element found...\n",
      "Extracting HTML...\n",
      "Adding SKUs for City Sweat Jogger 30\" (S-5XL)\n",
      "Successfully added info for City Sweat Jogger 30\" (S-5XL)\n",
      "Entering page for City Sweat Jogger 30\" (S-5XL), item num: 31\n",
      "Finding element on page...\n"
     ]
    },
    {
     "name": "stderr",
     "output_type": "stream",
     "text": [
      "\r",
      " 34%|███████████████████████████▉                                                      | 32/94 [01:49<03:12,  3.11s/it]"
     ]
    },
    {
     "name": "stdout",
     "output_type": "stream",
     "text": [
      "Element found...\n",
      "Extracting HTML...\n",
      "Adding SKUs for City Sweat Jogger 30\" (S-5XL)\n",
      "Successfully added info for City Sweat Jogger 30\" (S-5XL)\n",
      "Entering page for City Sweat Jogger 30\" (S-5XL), item num: 32\n",
      "Finding element on page...\n"
     ]
    },
    {
     "name": "stderr",
     "output_type": "stream",
     "text": [
      "\r",
      " 35%|████████████████████████████▊                                                     | 33/94 [01:52<03:09,  3.11s/it]"
     ]
    },
    {
     "name": "stdout",
     "output_type": "stream",
     "text": [
      "Element found...\n",
      "Extracting HTML...\n",
      "Adding SKUs for City Sweat Jogger 30\" (S-5XL)\n",
      "Successfully added info for City Sweat Jogger 30\" (S-5XL)\n",
      "Entering page for City Sweat Pullover Hoodie (S-5XL), item num: 33\n",
      "Finding element on page...\n"
     ]
    },
    {
     "name": "stderr",
     "output_type": "stream",
     "text": [
      "\r",
      " 36%|█████████████████████████████▋                                                    | 34/94 [01:55<03:05,  3.09s/it]"
     ]
    },
    {
     "name": "stdout",
     "output_type": "stream",
     "text": [
      "Element found...\n",
      "Extracting HTML...\n",
      "Adding SKUs for City Sweat Pullover Hoodie (S-5XL)\n",
      "Successfully added info for City Sweat Pullover Hoodie (S-5XL)\n",
      "Entering page for City Sweat Pullover Hoodie (S-5XL), item num: 34\n",
      "Finding element on page...\n"
     ]
    },
    {
     "name": "stderr",
     "output_type": "stream",
     "text": [
      "\r",
      " 37%|██████████████████████████████▌                                                   | 35/94 [01:58<03:00,  3.06s/it]"
     ]
    },
    {
     "name": "stdout",
     "output_type": "stream",
     "text": [
      "Element found...\n",
      "Extracting HTML...\n",
      "Adding SKUs for City Sweat Pullover Hoodie (S-5XL)\n",
      "Successfully added info for City Sweat Pullover Hoodie (S-5XL)\n",
      "Entering page for City Sweat Pullover Hoodie (S-5XL), item num: 35\n",
      "Finding element on page...\n"
     ]
    },
    {
     "name": "stderr",
     "output_type": "stream",
     "text": [
      "\r",
      " 38%|███████████████████████████████▍                                                  | 36/94 [02:01<03:00,  3.11s/it]"
     ]
    },
    {
     "name": "stdout",
     "output_type": "stream",
     "text": [
      "Element found...\n",
      "Extracting HTML...\n",
      "Adding SKUs for City Sweat Pullover Hoodie (S-5XL)\n",
      "Successfully added info for City Sweat Pullover Hoodie (S-5XL)\n",
      "Entering page for City Sweat Pullover Hoodie, item num: 36\n",
      "Finding element on page...\n"
     ]
    },
    {
     "name": "stderr",
     "output_type": "stream",
     "text": [
      "\r",
      " 39%|████████████████████████████████▎                                                 | 37/94 [02:04<03:02,  3.20s/it]"
     ]
    },
    {
     "name": "stdout",
     "output_type": "stream",
     "text": [
      "Element found...\n",
      "Extracting HTML...\n",
      "Adding SKUs for City Sweat Pullover Hoodie\n",
      "Successfully added info for City Sweat Pullover Hoodie\n",
      "Entering page for Commission Short Classic 7\" *Warpstreme, item num: 37\n",
      "Finding element on page...\n"
     ]
    },
    {
     "name": "stderr",
     "output_type": "stream",
     "text": [
      "\r",
      " 40%|█████████████████████████████████▏                                                | 38/94 [02:08<02:59,  3.20s/it]"
     ]
    },
    {
     "name": "stdout",
     "output_type": "stream",
     "text": [
      "Element found...\n",
      "Extracting HTML...\n",
      "Adding SKUs for Commission Short Classic 7\" *Warpstreme\n",
      "Successfully added info for Commission Short Classic 7\" *Warpstreme\n",
      "Entering page for Commission Short Classic 9\" *Warpstreme, item num: 38\n",
      "Finding element on page...\n"
     ]
    },
    {
     "name": "stderr",
     "output_type": "stream",
     "text": [
      "\r",
      " 41%|██████████████████████████████████                                                | 39/94 [02:11<02:56,  3.20s/it]"
     ]
    },
    {
     "name": "stdout",
     "output_type": "stream",
     "text": [
      "Element found...\n",
      "Extracting HTML...\n",
      "Adding SKUs for Commission Short Classic 9\" *Warpstreme\n",
      "Successfully added info for Commission Short Classic 9\" *Warpstreme\n",
      "Entering page for Commission Short Classic 9\" *Warpstreme, item num: 39\n",
      "Finding element on page...\n",
      "Element found...\n",
      "Extracting HTML...\n"
     ]
    },
    {
     "name": "stderr",
     "output_type": "stream",
     "text": [
      "\r",
      " 43%|██████████████████████████████████▉                                               | 40/94 [02:15<03:08,  3.49s/it]"
     ]
    },
    {
     "name": "stdout",
     "output_type": "stream",
     "text": [
      "Adding SKUs for Commission Short Classic 9\" *Warpstreme\n",
      "Successfully added info for Commission Short Classic 9\" *Warpstreme\n",
      "Entering page for Drysense Half Zip, item num: 40\n",
      "Finding element on page...\n"
     ]
    },
    {
     "name": "stderr",
     "output_type": "stream",
     "text": [
      "\r",
      " 44%|███████████████████████████████████▊                                              | 41/94 [02:18<03:00,  3.40s/it]"
     ]
    },
    {
     "name": "stdout",
     "output_type": "stream",
     "text": [
      "Element found...\n",
      "Extracting HTML...\n",
      "Adding SKUs for Drysense Half Zip\n",
      "Successfully added info for Drysense Half Zip\n",
      "Entering page for Drysense Hoodie, item num: 41\n",
      "Finding element on page...\n"
     ]
    },
    {
     "name": "stderr",
     "output_type": "stream",
     "text": [
      "\r",
      " 45%|████████████████████████████████████▋                                             | 42/94 [02:21<02:54,  3.36s/it]"
     ]
    },
    {
     "name": "stdout",
     "output_type": "stream",
     "text": [
      "Element found...\n",
      "Extracting HTML...\n",
      "Adding SKUs for Drysense Hoodie\n",
      "Successfully added info for Drysense Hoodie\n",
      "Entering page for DrySense Short Sleeve, item num: 42\n",
      "Finding element on page...\n"
     ]
    },
    {
     "name": "stderr",
     "output_type": "stream",
     "text": [
      "\r",
      " 46%|█████████████████████████████████████▌                                            | 43/94 [02:25<02:47,  3.28s/it]"
     ]
    },
    {
     "name": "stdout",
     "output_type": "stream",
     "text": [
      "Element found...\n",
      "Extracting HTML...\n",
      "Adding SKUs for DrySense Short Sleeve\n",
      "Successfully added info for DrySense Short Sleeve\n",
      "Entering page for DrySense Short Sleeve, item num: 43\n",
      "Finding element on page...\n"
     ]
    },
    {
     "name": "stderr",
     "output_type": "stream",
     "text": [
      "\r",
      " 47%|██████████████████████████████████████▍                                           | 44/94 [02:28<02:43,  3.28s/it]"
     ]
    },
    {
     "name": "stdout",
     "output_type": "stream",
     "text": [
      "Element found...\n",
      "Extracting HTML...\n",
      "Adding SKUs for DrySense Short Sleeve\n",
      "Successfully added info for DrySense Short Sleeve\n",
      "Entering page for DrySense Short Sleeve (S-5XL), item num: 44\n",
      "Finding element on page...\n"
     ]
    },
    {
     "name": "stderr",
     "output_type": "stream",
     "text": [
      "\r",
      " 48%|███████████████████████████████████████▎                                          | 45/94 [02:31<02:38,  3.24s/it]"
     ]
    },
    {
     "name": "stdout",
     "output_type": "stream",
     "text": [
      "Element found...\n",
      "Extracting HTML...\n",
      "Adding SKUs for DrySense Short Sleeve (S-5XL)\n",
      "Successfully added info for DrySense Short Sleeve (S-5XL)\n",
      "Entering page for Evolution Polo, item num: 45\n",
      "Finding element on page...\n"
     ]
    },
    {
     "name": "stderr",
     "output_type": "stream",
     "text": [
      "\r",
      " 49%|████████████████████████████████████████▏                                         | 46/94 [02:34<02:35,  3.23s/it]"
     ]
    },
    {
     "name": "stdout",
     "output_type": "stream",
     "text": [
      "Element found...\n",
      "Extracting HTML...\n",
      "Adding SKUs for Evolution Polo\n",
      "Successfully added info for Evolution Polo\n",
      "Entering page for Evolution Short Sleeve Polo Shirt, item num: 46\n",
      "Finding element on page...\n"
     ]
    },
    {
     "name": "stderr",
     "output_type": "stream",
     "text": [
      "\r",
      " 50%|█████████████████████████████████████████                                         | 47/94 [02:37<02:29,  3.19s/it]"
     ]
    },
    {
     "name": "stdout",
     "output_type": "stream",
     "text": [
      "Element found...\n",
      "Extracting HTML...\n",
      "Adding SKUs for Evolution Short Sleeve Polo Shirt\n",
      "Successfully added info for Evolution Short Sleeve Polo Shirt\n",
      "Entering page for Evolution Polo, item num: 47\n",
      "Finding element on page...\n"
     ]
    },
    {
     "name": "stderr",
     "output_type": "stream",
     "text": [
      "\r",
      " 51%|█████████████████████████████████████████▊                                        | 48/94 [02:41<02:27,  3.20s/it]"
     ]
    },
    {
     "name": "stdout",
     "output_type": "stream",
     "text": [
      "Element found...\n",
      "Extracting HTML...\n",
      "Adding SKUs for Evolution Polo\n",
      "Successfully added info for Evolution Polo\n",
      "Entering page for Fast and Free Short 6\" *Lined, item num: 48\n",
      "Finding element on page...\n"
     ]
    },
    {
     "name": "stderr",
     "output_type": "stream",
     "text": [
      "\r",
      " 52%|██████████████████████████████████████████▋                                       | 49/94 [02:44<02:22,  3.16s/it]"
     ]
    },
    {
     "name": "stdout",
     "output_type": "stream",
     "text": [
      "Element found...\n",
      "Extracting HTML...\n",
      "Adding SKUs for Fast and Free Short 6\" *Lined\n",
      "Successfully added info for Fast and Free Short 6\" *Lined\n",
      "Entering page for Fast and Free Run Hat *Men's, item num: 49\n",
      "Finding element on page...\n"
     ]
    },
    {
     "name": "stderr",
     "output_type": "stream",
     "text": [
      "\r",
      " 53%|███████████████████████████████████████████▌                                      | 50/94 [02:47<02:16,  3.10s/it]"
     ]
    },
    {
     "name": "stdout",
     "output_type": "stream",
     "text": [
      "Element found...\n",
      "Extracting HTML...\n",
      "Adding SKUs for Fast and Free Run Hat *Men's\n",
      "Successfully added info for Fast and Free Run Hat *Men's\n",
      "Entering page for GridLiner Fleece Crew, item num: 50\n",
      "Finding element on page...\n",
      "Element found...\n",
      "Extracting HTML...\n",
      "Adding SKUs for GridLiner Fleece Crew\n"
     ]
    },
    {
     "name": "stderr",
     "output_type": "stream",
     "text": [
      "\r",
      " 54%|████████████████████████████████████████████▍                                     | 51/94 [02:50<02:14,  3.12s/it]"
     ]
    },
    {
     "name": "stdout",
     "output_type": "stream",
     "text": [
      "Successfully added info for GridLiner Fleece Crew\n",
      "Entering page for GridLiner Fleece Jogger 28.5\", item num: 51\n",
      "Finding element on page...\n"
     ]
    },
    {
     "name": "stderr",
     "output_type": "stream",
     "text": [
      "\r",
      " 55%|█████████████████████████████████████████████▎                                    | 52/94 [02:53<02:09,  3.08s/it]"
     ]
    },
    {
     "name": "stdout",
     "output_type": "stream",
     "text": [
      "Element found...\n",
      "Extracting HTML...\n",
      "Adding SKUs for GridLiner Fleece Jogger 28.5\"\n",
      "Successfully added info for GridLiner Fleece Jogger 28.5\"\n",
      "Entering page for GridLiner Fleece Zip Hoodie, item num: 52\n",
      "Finding element on page...\n"
     ]
    },
    {
     "name": "stderr",
     "output_type": "stream",
     "text": [
      "\r",
      " 56%|██████████████████████████████████████████████▏                                   | 53/94 [02:56<02:06,  3.09s/it]"
     ]
    },
    {
     "name": "stdout",
     "output_type": "stream",
     "text": [
      "Element found...\n",
      "Extracting HTML...\n",
      "Adding SKUs for GridLiner Fleece Zip Hoodie\n",
      "Successfully added info for GridLiner Fleece Zip Hoodie\n",
      "Entering page for Insulated Bomber, item num: 53\n",
      "Finding element on page...\n"
     ]
    },
    {
     "name": "stderr",
     "output_type": "stream",
     "text": [
      "\r",
      " 57%|███████████████████████████████████████████████                                   | 54/94 [02:59<02:02,  3.06s/it]"
     ]
    },
    {
     "name": "stdout",
     "output_type": "stream",
     "text": [
      "Element found...\n",
      "Extracting HTML...\n",
      "Adding SKUs for Insulated Bomber\n",
      "Successfully added info for Insulated Bomber\n",
      "Entering page for License To Train Short 7\" *Linerless, item num: 54\n",
      "Finding element on page...\n"
     ]
    },
    {
     "name": "stderr",
     "output_type": "stream",
     "text": [
      "\r",
      " 59%|███████████████████████████████████████████████▉                                  | 55/94 [03:03<02:13,  3.42s/it]"
     ]
    },
    {
     "name": "stdout",
     "output_type": "stream",
     "text": [
      "Element found...\n",
      "Extracting HTML...\n",
      "Adding SKUs for License To Train Short 7\" *Linerless\n",
      "Successfully added info for License To Train Short 7\" *Linerless\n",
      "Entering page for Mens Power Stride Hiking Crew Sock, item num: 55\n",
      "Finding element on page...\n"
     ]
    },
    {
     "name": "stderr",
     "output_type": "stream",
     "text": [
      "\r",
      " 60%|████████████████████████████████████████████████▊                                 | 56/94 [03:06<02:04,  3.28s/it]"
     ]
    },
    {
     "name": "stdout",
     "output_type": "stream",
     "text": [
      "Element found...\n",
      "Extracting HTML...\n",
      "Adding SKUs for Mens Power Stride Hiking Crew Sock\n",
      "Successfully added info for Mens Power Stride Hiking Crew Sock\n",
      "Entering page for Mens Power Stride Tab Sock Wordmark, item num: 56\n",
      "Finding element on page...\n"
     ]
    },
    {
     "name": "stderr",
     "output_type": "stream",
     "text": [
      "\r",
      " 61%|█████████████████████████████████████████████████▋                                | 57/94 [03:09<01:59,  3.23s/it]"
     ]
    },
    {
     "name": "stdout",
     "output_type": "stream",
     "text": [
      "Element found...\n",
      "Extracting HTML...\n",
      "Adding SKUs for Mens Power Stride Tab Sock Wordmark\n",
      "Successfully added info for Mens Power Stride Tab Sock Wordmark\n",
      "Entering page for Metal Vent Tech 1/2 Zip 2.0, item num: 57\n",
      "Finding element on page...\n"
     ]
    },
    {
     "name": "stderr",
     "output_type": "stream",
     "text": [
      "\r",
      " 62%|██████████████████████████████████████████████████▌                               | 58/94 [03:12<01:54,  3.19s/it]"
     ]
    },
    {
     "name": "stdout",
     "output_type": "stream",
     "text": [
      "Element found...\n",
      "Extracting HTML...\n",
      "Adding SKUs for Metal Vent Tech 1/2 Zip 2.0\n",
      "Successfully added info for Metal Vent Tech 1/2 Zip 2.0\n",
      "Entering page for Metal Vent Tech 1/2 Zip 2.0, item num: 58\n",
      "Finding element on page...\n"
     ]
    },
    {
     "name": "stderr",
     "output_type": "stream",
     "text": [
      "\r",
      " 63%|███████████████████████████████████████████████████▍                              | 59/94 [03:15<01:50,  3.17s/it]"
     ]
    },
    {
     "name": "stdout",
     "output_type": "stream",
     "text": [
      "Element found...\n",
      "Extracting HTML...\n",
      "Adding SKUs for Metal Vent Tech 1/2 Zip 2.0\n",
      "Successfully added info for Metal Vent Tech 1/2 Zip 2.0\n",
      "Entering page for Metal Vent Tech Hoodie 2.0, item num: 59\n",
      "Finding element on page...\n"
     ]
    },
    {
     "name": "stderr",
     "output_type": "stream",
     "text": [
      "\r",
      " 64%|████████████████████████████████████████████████████▎                             | 60/94 [03:18<01:45,  3.11s/it]"
     ]
    },
    {
     "name": "stdout",
     "output_type": "stream",
     "text": [
      "Element found...\n",
      "Extracting HTML...\n",
      "Adding SKUs for Metal Vent Tech Hoodie 2.0\n",
      "Successfully added info for Metal Vent Tech Hoodie 2.0\n",
      "Entering page for Metal Vent Tech Long Sleeve 2.0, item num: 60\n",
      "Finding element on page...\n"
     ]
    },
    {
     "name": "stderr",
     "output_type": "stream",
     "text": [
      "\r",
      " 65%|█████████████████████████████████████████████████████▏                            | 61/94 [03:22<01:45,  3.19s/it]"
     ]
    },
    {
     "name": "stdout",
     "output_type": "stream",
     "text": [
      "Element found...\n",
      "Extracting HTML...\n",
      "Adding SKUs for Metal Vent Tech Long Sleeve 2.0\n",
      "Successfully added info for Metal Vent Tech Long Sleeve 2.0\n",
      "Entering page for Metal Vent Tech Long Sleeve 2.0, item num: 61\n",
      "Finding element on page...\n"
     ]
    },
    {
     "name": "stderr",
     "output_type": "stream",
     "text": [
      "\r",
      " 66%|██████████████████████████████████████████████████████                            | 62/94 [03:25<01:42,  3.22s/it]"
     ]
    },
    {
     "name": "stdout",
     "output_type": "stream",
     "text": [
      "Element found...\n",
      "Extracting HTML...\n",
      "Adding SKUs for Metal Vent Tech Long Sleeve 2.0\n",
      "Successfully added info for Metal Vent Tech Long Sleeve 2.0\n",
      "Entering page for Metal Vent Tech Short Sleeve 2.0, item num: 62\n",
      "Finding element on page...\n"
     ]
    },
    {
     "name": "stderr",
     "output_type": "stream",
     "text": [
      "\r",
      " 67%|██████████████████████████████████████████████████████▉                           | 63/94 [03:28<01:40,  3.24s/it]"
     ]
    },
    {
     "name": "stdout",
     "output_type": "stream",
     "text": [
      "Element found...\n",
      "Extracting HTML...\n",
      "Adding SKUs for Metal Vent Tech Short Sleeve 2.0\n",
      "Successfully added info for Metal Vent Tech Short Sleeve 2.0\n",
      "Entering page for Metal Vent Tech Short Sleeve 2.0, item num: 63\n",
      "Finding element on page...\n",
      "Element found...\n",
      "Extracting HTML...\n"
     ]
    },
    {
     "name": "stderr",
     "output_type": "stream",
     "text": [
      "\r",
      " 68%|███████████████████████████████████████████████████████▊                          | 64/94 [03:32<01:41,  3.38s/it]"
     ]
    },
    {
     "name": "stdout",
     "output_type": "stream",
     "text": [
      "Adding SKUs for Metal Vent Tech Short Sleeve 2.0\n",
      "Successfully added info for Metal Vent Tech Short Sleeve 2.0\n",
      "Entering page for Outpour Field Jacket, item num: 64\n",
      "Finding element on page...\n"
     ]
    },
    {
     "name": "stderr",
     "output_type": "stream",
     "text": [
      "\r",
      " 69%|████████████████████████████████████████████████████████▋                         | 65/94 [03:35<01:36,  3.31s/it]"
     ]
    },
    {
     "name": "stdout",
     "output_type": "stream",
     "text": [
      "Element found...\n",
      "Extracting HTML...\n",
      "Adding SKUs for Outpour Field Jacket\n",
      "Successfully added info for Outpour Field Jacket\n",
      "Entering page for Pace Breaker Short 7\" *Lined, item num: 65\n",
      "Finding element on page...\n"
     ]
    },
    {
     "name": "stderr",
     "output_type": "stream",
     "text": [
      "\r",
      " 70%|█████████████████████████████████████████████████████████▌                        | 66/94 [03:38<01:31,  3.28s/it]"
     ]
    },
    {
     "name": "stdout",
     "output_type": "stream",
     "text": [
      "Element found...\n",
      "Extracting HTML...\n",
      "Adding SKUs for Pace Breaker Short 7\" *Lined\n",
      "Successfully added info for Pace Breaker Short 7\" *Lined\n",
      "Entering page for Pace Breaker Short 7\" *Linerless, item num: 66\n",
      "Finding element on page...\n"
     ]
    },
    {
     "name": "stderr",
     "output_type": "stream",
     "text": [
      "\r",
      " 71%|██████████████████████████████████████████████████████████▍                       | 67/94 [03:42<01:30,  3.34s/it]"
     ]
    },
    {
     "name": "stdout",
     "output_type": "stream",
     "text": [
      "Element found...\n",
      "Extracting HTML...\n",
      "Adding SKUs for Pace Breaker Short 7\" *Linerless\n",
      "Successfully added info for Pace Breaker Short 7\" *Linerless\n",
      "Entering page for Pace Breaker Short 9\" *Lined, item num: 67\n",
      "Finding element on page...\n"
     ]
    },
    {
     "name": "stderr",
     "output_type": "stream",
     "text": [
      "\r",
      " 72%|███████████████████████████████████████████████████████████▎                      | 68/94 [03:45<01:24,  3.27s/it]"
     ]
    },
    {
     "name": "stdout",
     "output_type": "stream",
     "text": [
      "Element found...\n",
      "Extracting HTML...\n",
      "Adding SKUs for Pace Breaker Short 9\" *Lined\n",
      "Successfully added info for Pace Breaker Short 9\" *Lined\n",
      "Entering page for Pace Breaker Short 9\" *Lined, item num: 68\n",
      "Finding element on page...\n"
     ]
    },
    {
     "name": "stderr",
     "output_type": "stream",
     "text": [
      "\r",
      " 73%|████████████████████████████████████████████████████████████▏                     | 69/94 [03:48<01:21,  3.26s/it]"
     ]
    },
    {
     "name": "stdout",
     "output_type": "stream",
     "text": [
      "Element found...\n",
      "Extracting HTML...\n",
      "Adding SKUs for Pace Breaker Short 9\" *Lined\n",
      "Successfully added info for Pace Breaker Short 9\" *Lined\n",
      "Entering page for Pace Breaker Short 9\" *Linerless, item num: 69\n",
      "Finding element on page...\n"
     ]
    },
    {
     "name": "stderr",
     "output_type": "stream",
     "text": [
      "\r",
      " 74%|█████████████████████████████████████████████████████████████                     | 70/94 [03:51<01:17,  3.22s/it]"
     ]
    },
    {
     "name": "stdout",
     "output_type": "stream",
     "text": [
      "Element found...\n",
      "Extracting HTML...\n",
      "Adding SKUs for Pace Breaker Short 9\" *Linerless\n",
      "Successfully added info for Pace Breaker Short 9\" *Linerless\n",
      "Entering page for Mens Power Stride Tab *3 Pack, item num: 70\n",
      "Finding element on page...\n"
     ]
    },
    {
     "name": "stderr",
     "output_type": "stream",
     "text": [
      "\r",
      " 76%|█████████████████████████████████████████████████████████████▉                    | 71/94 [03:54<01:13,  3.20s/it]"
     ]
    },
    {
     "name": "stdout",
     "output_type": "stream",
     "text": [
      "Element found...\n",
      "Extracting HTML...\n",
      "Adding SKUs for Mens Power Stride Tab *3 Pack\n",
      "Successfully added info for Mens Power Stride Tab *3 Pack\n",
      "Entering page for Relaxed Fit Train Short 8\" *Woven, item num: 71\n",
      "Finding element on page...\n"
     ]
    },
    {
     "name": "stderr",
     "output_type": "stream",
     "text": [
      "\r",
      " 77%|██████████████████████████████████████████████████████████████▊                   | 72/94 [03:58<01:09,  3.18s/it]"
     ]
    },
    {
     "name": "stdout",
     "output_type": "stream",
     "text": [
      "Element found...\n",
      "Extracting HTML...\n",
      "Adding SKUs for Relaxed Fit Train Short 8\" *Woven\n",
      "Successfully added info for Relaxed Fit Train Short 8\" *Woven\n",
      "Entering page for Sojourn Jacket, item num: 72\n",
      "Finding element on page...\n"
     ]
    },
    {
     "name": "stderr",
     "output_type": "stream",
     "text": [
      "\r",
      " 78%|███████████████████████████████████████████████████████████████▋                  | 73/94 [04:01<01:06,  3.15s/it]"
     ]
    },
    {
     "name": "stdout",
     "output_type": "stream",
     "text": [
      "Element found...\n",
      "Extracting HTML...\n",
      "Adding SKUs for Sojourn Jacket\n",
      "Successfully added info for Sojourn Jacket\n",
      "Entering page for Sojourn Jacket, item num: 73\n",
      "Finding element on page...\n"
     ]
    },
    {
     "name": "stderr",
     "output_type": "stream",
     "text": [
      "\r",
      " 79%|████████████████████████████████████████████████████████████████▌                 | 74/94 [04:04<01:01,  3.09s/it]"
     ]
    },
    {
     "name": "stdout",
     "output_type": "stream",
     "text": [
      "Element found...\n",
      "Extracting HTML...\n",
      "Adding SKUs for Sojourn Jacket\n",
      "Successfully added info for Sojourn Jacket\n",
      "Entering page for Stretch Ventilated Run Jacket, item num: 74\n",
      "Finding element on page...\n"
     ]
    },
    {
     "name": "stderr",
     "output_type": "stream",
     "text": [
      "\r",
      " 80%|█████████████████████████████████████████████████████████████████▍                | 75/94 [04:07<00:58,  3.07s/it]"
     ]
    },
    {
     "name": "stdout",
     "output_type": "stream",
     "text": [
      "Element found...\n",
      "Extracting HTML...\n",
      "Adding SKUs for Stretch Ventilated Run Jacket\n",
      "Successfully added info for Stretch Ventilated Run Jacket\n",
      "Entering page for Surge Jogger 29\", item num: 75\n",
      "Finding element on page...\n",
      "Element found...\n",
      "Extracting HTML...\n",
      "Adding SKUs for Surge Jogger 29\"\n"
     ]
    },
    {
     "name": "stderr",
     "output_type": "stream",
     "text": [
      "\r",
      " 81%|██████████████████████████████████████████████████████████████████▎               | 76/94 [04:10<00:55,  3.10s/it]"
     ]
    },
    {
     "name": "stdout",
     "output_type": "stream",
     "text": [
      "Successfully added info for Surge Jogger 29\"\n",
      "Entering page for Surge Jogger 29\", item num: 76\n",
      "Finding element on page...\n"
     ]
    },
    {
     "name": "stderr",
     "output_type": "stream",
     "text": [
      "\r",
      " 82%|███████████████████████████████████████████████████████████████████▏              | 77/94 [04:13<00:52,  3.10s/it]"
     ]
    },
    {
     "name": "stdout",
     "output_type": "stream",
     "text": [
      "Element found...\n",
      "Extracting HTML...\n",
      "Adding SKUs for Surge Jogger 29\"\n",
      "Successfully added info for Surge Jogger 29\"\n",
      "Entering page for Surge Short 6\" *Lined, item num: 77\n",
      "Finding element on page...\n"
     ]
    },
    {
     "name": "stderr",
     "output_type": "stream",
     "text": [
      "\r",
      " 83%|████████████████████████████████████████████████████████████████████              | 78/94 [04:16<00:50,  3.14s/it]"
     ]
    },
    {
     "name": "stdout",
     "output_type": "stream",
     "text": [
      "Element found...\n",
      "Extracting HTML...\n",
      "Adding SKUs for Surge Short 6\" *Lined\n",
      "Successfully added info for Surge Short 6\" *Lined\n",
      "Entering page for Surge Warm Half Zip, item num: 78\n",
      "Finding element on page...\n"
     ]
    },
    {
     "name": "stderr",
     "output_type": "stream",
     "text": [
      "\r",
      " 84%|████████████████████████████████████████████████████████████████████▉             | 79/94 [04:19<00:46,  3.09s/it]"
     ]
    },
    {
     "name": "stdout",
     "output_type": "stream",
     "text": [
      "Element found...\n",
      "Extracting HTML...\n",
      "Adding SKUs for Surge Warm Half Zip\n",
      "Successfully added info for Surge Warm Half Zip\n",
      "Entering page for T.H.E. Short 9\" *Linerless, item num: 79\n",
      "Finding element on page...\n"
     ]
    },
    {
     "name": "stderr",
     "output_type": "stream",
     "text": [
      "\r",
      " 85%|█████████████████████████████████████████████████████████████████████▊            | 80/94 [04:22<00:43,  3.07s/it]"
     ]
    },
    {
     "name": "stdout",
     "output_type": "stream",
     "text": [
      "Element found...\n",
      "Extracting HTML...\n",
      "Adding SKUs for T.H.E. Short 9\" *Linerless\n",
      "Successfully added info for T.H.E. Short 9\" *Linerless\n",
      "Entering page for T.H.E. Short 9\" *Linerless, item num: 80\n",
      "Finding element on page...\n"
     ]
    },
    {
     "name": "stderr",
     "output_type": "stream",
     "text": [
      "\r",
      " 86%|██████████████████████████████████████████████████████████████████████▋           | 81/94 [04:25<00:39,  3.07s/it]"
     ]
    },
    {
     "name": "stdout",
     "output_type": "stream",
     "text": [
      "Element found...\n",
      "Extracting HTML...\n",
      "Adding SKUs for T.H.E. Short 9\" *Linerless\n",
      "Successfully added info for T.H.E. Short 9\" *Linerless\n",
      "Entering page for The (Big) Mat *Marble, item num: 81\n",
      "Finding element on page...\n"
     ]
    },
    {
     "name": "stderr",
     "output_type": "stream",
     "text": [
      "\r",
      " 87%|███████████████████████████████████████████████████████████████████████▌          | 82/94 [04:28<00:36,  3.05s/it]"
     ]
    },
    {
     "name": "stdout",
     "output_type": "stream",
     "text": [
      "Element found...\n",
      "Extracting HTML...\n",
      "Adding SKUs for The (Big) Mat *Marble\n",
      "Successfully added info for The (Big) Mat *Marble\n",
      "Entering page for The Fundamental LS, item num: 82\n",
      "Finding element on page...\n"
     ]
    },
    {
     "name": "stderr",
     "output_type": "stream",
     "text": [
      "\r",
      " 88%|████████████████████████████████████████████████████████████████████████▍         | 83/94 [04:31<00:34,  3.09s/it]"
     ]
    },
    {
     "name": "stdout",
     "output_type": "stream",
     "text": [
      "Element found...\n",
      "Extracting HTML...\n",
      "Adding SKUs for The Fundamental LS\n",
      "Successfully added info for The Fundamental LS\n",
      "Entering page for The Fundamental LS, item num: 83\n",
      "Finding element on page...\n"
     ]
    },
    {
     "name": "stderr",
     "output_type": "stream",
     "text": [
      "\r",
      " 89%|█████████████████████████████████████████████████████████████████████████▎        | 84/94 [04:34<00:30,  3.08s/it]"
     ]
    },
    {
     "name": "stdout",
     "output_type": "stream",
     "text": [
      "Element found...\n",
      "Extracting HTML...\n",
      "Adding SKUs for The Fundamental LS\n",
      "Successfully added info for The Fundamental LS\n",
      "Entering page for The Fundamental T, item num: 84\n",
      "Finding element on page...\n"
     ]
    },
    {
     "name": "stderr",
     "output_type": "stream",
     "text": [
      "\r",
      " 90%|██████████████████████████████████████████████████████████████████████████▏       | 85/94 [04:37<00:27,  3.05s/it]"
     ]
    },
    {
     "name": "stdout",
     "output_type": "stream",
     "text": [
      "Element found...\n",
      "Extracting HTML...\n",
      "Adding SKUs for The Fundamental T\n",
      "Successfully added info for The Fundamental T\n",
      "Entering page for The Fundamental T, item num: 85\n",
      "Finding element on page...\n",
      "Element found...\n",
      "Extracting HTML...\n"
     ]
    },
    {
     "name": "stderr",
     "output_type": "stream",
     "text": [
      "\r",
      " 91%|███████████████████████████████████████████████████████████████████████████       | 86/94 [04:41<00:25,  3.23s/it]"
     ]
    },
    {
     "name": "stdout",
     "output_type": "stream",
     "text": [
      "Adding SKUs for The Fundamental T\n",
      "Successfully added info for The Fundamental T\n",
      "Entering page for The Mat 3mm, item num: 86\n",
      "Finding element on page...\n"
     ]
    },
    {
     "name": "stderr",
     "output_type": "stream",
     "text": [
      "\r",
      " 93%|███████████████████████████████████████████████████████████████████████████▉      | 87/94 [04:44<00:22,  3.15s/it]"
     ]
    },
    {
     "name": "stdout",
     "output_type": "stream",
     "text": [
      "Element found...\n",
      "Extracting HTML...\n",
      "Adding SKUs for The Mat 3mm\n",
      "Successfully added info for The Mat 3mm\n",
      "Entering page for The Mat 5mm, item num: 87\n",
      "Finding element on page...\n",
      "Element found...\n",
      "Extracting HTML...\n",
      "Adding SKUs for The Mat 5mm\n"
     ]
    },
    {
     "name": "stderr",
     "output_type": "stream",
     "text": [
      "\r",
      " 94%|████████████████████████████████████████████████████████████████████████████▊     | 88/94 [04:47<00:18,  3.16s/it]"
     ]
    },
    {
     "name": "stdout",
     "output_type": "stream",
     "text": [
      "Successfully added info for The Mat 5mm\n",
      "Entering page for The Mat 5mm *Marble, item num: 88\n",
      "Finding element on page...\n"
     ]
    },
    {
     "name": "stderr",
     "output_type": "stream",
     "text": [
      "\r",
      " 95%|█████████████████████████████████████████████████████████████████████████████▋    | 89/94 [04:50<00:15,  3.15s/it]"
     ]
    },
    {
     "name": "stdout",
     "output_type": "stream",
     "text": [
      "Element found...\n",
      "Extracting HTML...\n",
      "Adding SKUs for The Mat 5mm *Marble\n",
      "Successfully added info for The Mat 5mm *Marble\n",
      "Entering page for The Reversible Mat 3mm, item num: 89\n",
      "Finding element on page...\n"
     ]
    },
    {
     "name": "stderr",
     "output_type": "stream",
     "text": [
      "\r",
      " 96%|██████████████████████████████████████████████████████████████████████████████▌   | 90/94 [04:53<00:12,  3.11s/it]"
     ]
    },
    {
     "name": "stdout",
     "output_type": "stream",
     "text": [
      "Element found...\n",
      "Extracting HTML...\n",
      "Adding SKUs for The Reversible Mat 3mm\n",
      "Successfully added info for The Reversible Mat 3mm\n",
      "Entering page for The Reversible Mat 5mm, item num: 90\n",
      "Finding element on page...\n"
     ]
    },
    {
     "name": "stderr",
     "output_type": "stream",
     "text": [
      "\r",
      " 97%|███████████████████████████████████████████████████████████████████████████████▍  | 91/94 [04:56<00:09,  3.11s/it]"
     ]
    },
    {
     "name": "stdout",
     "output_type": "stream",
     "text": [
      "Element found...\n",
      "Extracting HTML...\n",
      "Adding SKUs for The Reversible Mat 5mm\n",
      "Successfully added info for The Reversible Mat 5mm\n",
      "Entering page for The Reversible Mat 5mm, item num: 91\n",
      "Finding element on page...\n"
     ]
    },
    {
     "name": "stderr",
     "output_type": "stream",
     "text": [
      "\r",
      " 98%|████████████████████████████████████████████████████████████████████████████████▎ | 92/94 [04:59<00:06,  3.09s/it]"
     ]
    },
    {
     "name": "stdout",
     "output_type": "stream",
     "text": [
      "Element found...\n",
      "Extracting HTML...\n",
      "Adding SKUs for The Reversible Mat 5mm\n",
      "Successfully added info for The Reversible Mat 5mm\n",
      "Entering page for Vented Tennis Short, item num: 92\n",
      "Finding element on page...\n"
     ]
    },
    {
     "name": "stderr",
     "output_type": "stream",
     "text": [
      "\r",
      " 99%|█████████████████████████████████████████████████████████████████████████████████▏| 93/94 [05:02<00:03,  3.02s/it]"
     ]
    },
    {
     "name": "stdout",
     "output_type": "stream",
     "text": [
      "Element found...\n",
      "Extracting HTML...\n",
      "Adding SKUs for Vented Tennis Short\n",
      "Successfully added info for Vented Tennis Short\n",
      "Entering page for Vented Tennis Short Sleeve, item num: 93\n",
      "Finding element on page...\n"
     ]
    },
    {
     "name": "stderr",
     "output_type": "stream",
     "text": [
      "100%|██████████████████████████████████████████████████████████████████████████████████| 94/94 [05:05<00:00,  3.25s/it]"
     ]
    },
    {
     "name": "stdout",
     "output_type": "stream",
     "text": [
      "Element found...\n",
      "Extracting HTML...\n",
      "Adding SKUs for Vented Tennis Short Sleeve\n",
      "Successfully added info for Vented Tennis Short Sleeve\n",
      "Wall time: 5min 5s\n"
     ]
    },
    {
     "name": "stderr",
     "output_type": "stream",
     "text": [
      "\n"
     ]
    },
    {
     "data": {
      "text/html": [
       "<div>\n",
       "<style scoped>\n",
       "    .dataframe tbody tr th:only-of-type {\n",
       "        vertical-align: middle;\n",
       "    }\n",
       "\n",
       "    .dataframe tbody tr th {\n",
       "        vertical-align: top;\n",
       "    }\n",
       "\n",
       "    .dataframe thead th {\n",
       "        text-align: right;\n",
       "    }\n",
       "</style>\n",
       "<table border=\"1\" class=\"dataframe\">\n",
       "  <thead>\n",
       "    <tr style=\"text-align: right;\">\n",
       "      <th></th>\n",
       "      <th>Item</th>\n",
       "      <th>Colour</th>\n",
       "      <th>Size</th>\n",
       "      <th>Availability</th>\n",
       "      <th>Inventory</th>\n",
       "      <th>InventoryAvailability</th>\n",
       "      <th>Type</th>\n",
       "      <th>Price</th>\n",
       "      <th>SKU</th>\n",
       "      <th>InventoryONE SIZE</th>\n",
       "    </tr>\n",
       "  </thead>\n",
       "  <tbody>\n",
       "    <tr>\n",
       "      <th>0</th>\n",
       "      <td>Vented Tennis Short Sleeve</td>\n",
       "      <td>White</td>\n",
       "      <td>S</td>\n",
       "      <td>NaN</td>\n",
       "      <td>10.0</td>\n",
       "      <td>Available</td>\n",
       "      <td>Mens</td>\n",
       "      <td>49.0</td>\n",
       "      <td>142325963</td>\n",
       "      <td>NaN</td>\n",
       "    </tr>\n",
       "    <tr>\n",
       "      <th>1</th>\n",
       "      <td>Vented Tennis Short Sleeve</td>\n",
       "      <td>White</td>\n",
       "      <td>M</td>\n",
       "      <td>NaN</td>\n",
       "      <td>43.0</td>\n",
       "      <td>Available</td>\n",
       "      <td>Mens</td>\n",
       "      <td>49.0</td>\n",
       "      <td>142325958</td>\n",
       "      <td>NaN</td>\n",
       "    </tr>\n",
       "    <tr>\n",
       "      <th>2</th>\n",
       "      <td>Vented Tennis Short Sleeve</td>\n",
       "      <td>White</td>\n",
       "      <td>L</td>\n",
       "      <td>NaN</td>\n",
       "      <td>36.0</td>\n",
       "      <td>Available</td>\n",
       "      <td>Mens</td>\n",
       "      <td>49.0</td>\n",
       "      <td>142325951</td>\n",
       "      <td>NaN</td>\n",
       "    </tr>\n",
       "    <tr>\n",
       "      <th>3</th>\n",
       "      <td>Vented Tennis Short Sleeve</td>\n",
       "      <td>White</td>\n",
       "      <td>XL</td>\n",
       "      <td>NaN</td>\n",
       "      <td>18.0</td>\n",
       "      <td>Available</td>\n",
       "      <td>Mens</td>\n",
       "      <td>49.0</td>\n",
       "      <td>142325970</td>\n",
       "      <td>NaN</td>\n",
       "    </tr>\n",
       "    <tr>\n",
       "      <th>4</th>\n",
       "      <td>Vented Tennis Short Sleeve</td>\n",
       "      <td>White</td>\n",
       "      <td>XXL</td>\n",
       "      <td>NaN</td>\n",
       "      <td>4.0</td>\n",
       "      <td>Available</td>\n",
       "      <td>Mens</td>\n",
       "      <td>49.0</td>\n",
       "      <td>142325983</td>\n",
       "      <td>NaN</td>\n",
       "    </tr>\n",
       "    <tr>\n",
       "      <th>...</th>\n",
       "      <td>...</td>\n",
       "      <td>...</td>\n",
       "      <td>...</td>\n",
       "      <td>...</td>\n",
       "      <td>...</td>\n",
       "      <td>...</td>\n",
       "      <td>...</td>\n",
       "      <td>...</td>\n",
       "      <td>...</td>\n",
       "      <td>...</td>\n",
       "    </tr>\n",
       "    <tr>\n",
       "      <th>54</th>\n",
       "      <td>ABC Pant Classic-Fit *Warpstreme 32\"</td>\n",
       "      <td>Silver Drop</td>\n",
       "      <td>48</td>\n",
       "      <td>NaN</td>\n",
       "      <td>10.0</td>\n",
       "      <td>Available</td>\n",
       "      <td>Mens</td>\n",
       "      <td>69.0</td>\n",
       "      <td>136302986</td>\n",
       "      <td>NaN</td>\n",
       "    </tr>\n",
       "    <tr>\n",
       "      <th>65</th>\n",
       "      <td>ABC Pant Classic-Fit *Warpstreme 32\"</td>\n",
       "      <td>True Navy</td>\n",
       "      <td>42</td>\n",
       "      <td>NaN</td>\n",
       "      <td>7.0</td>\n",
       "      <td>Available</td>\n",
       "      <td>Mens</td>\n",
       "      <td>69.0</td>\n",
       "      <td>136500065</td>\n",
       "      <td>NaN</td>\n",
       "    </tr>\n",
       "    <tr>\n",
       "      <th>66</th>\n",
       "      <td>ABC Pant Classic-Fit *Warpstreme 32\"</td>\n",
       "      <td>True Navy</td>\n",
       "      <td>44</td>\n",
       "      <td>NaN</td>\n",
       "      <td>8.0</td>\n",
       "      <td>Available</td>\n",
       "      <td>Mens</td>\n",
       "      <td>69.0</td>\n",
       "      <td>136500066</td>\n",
       "      <td>NaN</td>\n",
       "    </tr>\n",
       "    <tr>\n",
       "      <th>67</th>\n",
       "      <td>ABC Pant Classic-Fit *Warpstreme 32\"</td>\n",
       "      <td>True Navy</td>\n",
       "      <td>46</td>\n",
       "      <td>NaN</td>\n",
       "      <td>4.0</td>\n",
       "      <td>Available</td>\n",
       "      <td>Mens</td>\n",
       "      <td>69.0</td>\n",
       "      <td>136500067</td>\n",
       "      <td>NaN</td>\n",
       "    </tr>\n",
       "    <tr>\n",
       "      <th>68</th>\n",
       "      <td>ABC Pant Classic-Fit *Warpstreme 32\"</td>\n",
       "      <td>True Navy</td>\n",
       "      <td>48</td>\n",
       "      <td>NaN</td>\n",
       "      <td>4.0</td>\n",
       "      <td>Available</td>\n",
       "      <td>Mens</td>\n",
       "      <td>69.0</td>\n",
       "      <td>136500068</td>\n",
       "      <td>NaN</td>\n",
       "    </tr>\n",
       "  </tbody>\n",
       "</table>\n",
       "<p>1096 rows × 10 columns</p>\n",
       "</div>"
      ],
      "text/plain": [
       "                                    Item       Colour Size  Availability  \\\n",
       "0             Vented Tennis Short Sleeve        White    S           NaN   \n",
       "1             Vented Tennis Short Sleeve        White    M           NaN   \n",
       "2             Vented Tennis Short Sleeve        White    L           NaN   \n",
       "3             Vented Tennis Short Sleeve        White   XL           NaN   \n",
       "4             Vented Tennis Short Sleeve        White  XXL           NaN   \n",
       "..                                   ...          ...  ...           ...   \n",
       "54  ABC Pant Classic-Fit *Warpstreme 32\"  Silver Drop   48           NaN   \n",
       "65  ABC Pant Classic-Fit *Warpstreme 32\"    True Navy   42           NaN   \n",
       "66  ABC Pant Classic-Fit *Warpstreme 32\"    True Navy   44           NaN   \n",
       "67  ABC Pant Classic-Fit *Warpstreme 32\"    True Navy   46           NaN   \n",
       "68  ABC Pant Classic-Fit *Warpstreme 32\"    True Navy   48           NaN   \n",
       "\n",
       "    Inventory InventoryAvailability  Type  Price        SKU  InventoryONE SIZE  \n",
       "0        10.0             Available  Mens   49.0  142325963                NaN  \n",
       "1        43.0             Available  Mens   49.0  142325958                NaN  \n",
       "2        36.0             Available  Mens   49.0  142325951                NaN  \n",
       "3        18.0             Available  Mens   49.0  142325970                NaN  \n",
       "4         4.0             Available  Mens   49.0  142325983                NaN  \n",
       "..        ...                   ...   ...    ...        ...                ...  \n",
       "54       10.0             Available  Mens   69.0  136302986                NaN  \n",
       "65        7.0             Available  Mens   69.0  136500065                NaN  \n",
       "66        8.0             Available  Mens   69.0  136500066                NaN  \n",
       "67        4.0             Available  Mens   69.0  136500067                NaN  \n",
       "68        4.0             Available  Mens   69.0  136500068                NaN  \n",
       "\n",
       "[1096 rows x 10 columns]"
      ]
     },
     "execution_count": 338,
     "metadata": {},
     "output_type": "execute_result"
    }
   ],
   "source": [
    "%%time\n",
    "mens_inventoryinfo = get_inventoryinfo(mens_items, gender='mens')\n",
    "womens_inventoryinfo = get_inventoryinfo(womens_items, gender='womens')\n",
    "mens_inventoryinfo"
   ]
  },
  {
   "cell_type": "code",
   "execution_count": 346,
   "metadata": {
    "ExecuteTime": {
     "end_time": "2022-08-02T04:56:53.484348Z",
     "start_time": "2022-08-02T04:56:53.452138Z"
    }
   },
   "outputs": [],
   "source": [
    "womens_inventoryinfo.to_csv('inventoryinfo_womens.csv')"
   ]
  },
  {
   "cell_type": "markdown",
   "metadata": {},
   "source": [
    "## 3. Get items ordered from google sheet"
   ]
  },
  {
   "cell_type": "code",
   "execution_count": 23,
   "metadata": {
    "ExecuteTime": {
     "end_time": "2022-08-05T16:05:25.308145Z",
     "start_time": "2022-08-05T16:05:25.289026Z"
    },
    "scrolled": true
   },
   "outputs": [],
   "source": [
    "# navigate to google sheet url; download Orders Sheet\n",
    "sheet_id = '15ZL3WeDxM4a-WCwhcJbGCYehppWiLLUF8VIgOIjTdt4'\n",
    "sheet_name = 'Orders Sheet'\n",
    "url = f\"https://docs.google.com/spreadsheets/d/{sheet_id}/gviz/tq?tqx=out:csv&sheet={sheet_name}\""
   ]
  },
  {
   "cell_type": "code",
   "execution_count": 28,
   "metadata": {
    "ExecuteTime": {
     "end_time": "2022-08-05T16:08:01.465684Z",
     "start_time": "2022-08-05T16:08:01.129870Z"
    }
   },
   "outputs": [],
   "source": [
    "driver.get(url)"
   ]
  },
  {
   "cell_type": "code",
   "execution_count": 286,
   "metadata": {
    "ExecuteTime": {
     "end_time": "2022-08-05T19:20:36.617068Z",
     "start_time": "2022-08-05T19:20:36.590133Z"
    }
   },
   "outputs": [],
   "source": [
    "path = 'C:/Users/ernes/Downloads/data.csv'\n",
    "test = pd.read_csv(path)\n",
    "\n",
    "cols = ['Item Name (Please Put Down Name As Seen On Website)', \n",
    "        'Colour', \n",
    "        'Size', \n",
    "        'Alt Colour (If Applicable)', \n",
    "        'Quantity',\n",
    "        'Cost (As Listed)']\n",
    "\n",
    "df_order = test[cols]"
   ]
  },
  {
   "cell_type": "code",
   "execution_count": 287,
   "metadata": {
    "ExecuteTime": {
     "end_time": "2022-08-05T19:20:36.760434Z",
     "start_time": "2022-08-05T19:20:36.731443Z"
    },
    "scrolled": true
   },
   "outputs": [
    {
     "data": {
      "text/html": [
       "<div>\n",
       "<style scoped>\n",
       "    .dataframe tbody tr th:only-of-type {\n",
       "        vertical-align: middle;\n",
       "    }\n",
       "\n",
       "    .dataframe tbody tr th {\n",
       "        vertical-align: top;\n",
       "    }\n",
       "\n",
       "    .dataframe thead th {\n",
       "        text-align: right;\n",
       "    }\n",
       "</style>\n",
       "<table border=\"1\" class=\"dataframe\">\n",
       "  <thead>\n",
       "    <tr style=\"text-align: right;\">\n",
       "      <th></th>\n",
       "      <th>Item</th>\n",
       "      <th>Colour</th>\n",
       "      <th>Size</th>\n",
       "      <th>AltColour</th>\n",
       "      <th>Quantity</th>\n",
       "      <th>Price</th>\n",
       "    </tr>\n",
       "  </thead>\n",
       "  <tbody>\n",
       "    <tr>\n",
       "      <th>0</th>\n",
       "      <td>SURGE JOGGERS 29\"</td>\n",
       "      <td>BLACK</td>\n",
       "      <td>M</td>\n",
       "      <td></td>\n",
       "      <td>1</td>\n",
       "      <td>69.00</td>\n",
       "    </tr>\n",
       "    <tr>\n",
       "      <th>1</th>\n",
       "      <td>ABC PANT CLASSIC FIT *WARPSTREME 32\"</td>\n",
       "      <td>BLACK</td>\n",
       "      <td>33</td>\n",
       "      <td></td>\n",
       "      <td>2</td>\n",
       "      <td>69.00</td>\n",
       "    </tr>\n",
       "    <tr>\n",
       "      <th>2</th>\n",
       "      <td>CITY SWEAT FULL ZIP HOODIE</td>\n",
       "      <td>BLACK</td>\n",
       "      <td>M</td>\n",
       "      <td>NAVY</td>\n",
       "      <td>2</td>\n",
       "      <td>64.00</td>\n",
       "    </tr>\n",
       "    <tr>\n",
       "      <th>3</th>\n",
       "      <td>ABC JOGGER *WARPSTREME 30\" *</td>\n",
       "      <td>BLACK</td>\n",
       "      <td>M</td>\n",
       "      <td></td>\n",
       "      <td>2</td>\n",
       "      <td>69.00</td>\n",
       "    </tr>\n",
       "    <tr>\n",
       "      <th>4</th>\n",
       "      <td>THE SHORT 9\" LINERLESS</td>\n",
       "      <td>BLACK</td>\n",
       "      <td>M</td>\n",
       "      <td></td>\n",
       "      <td>1</td>\n",
       "      <td>34.00</td>\n",
       "    </tr>\n",
       "  </tbody>\n",
       "</table>\n",
       "</div>"
      ],
      "text/plain": [
       "                                   Item Colour Size AltColour Quantity  Price\n",
       "0                     SURGE JOGGERS 29\"  BLACK    M                  1  69.00\n",
       "1  ABC PANT CLASSIC FIT *WARPSTREME 32\"  BLACK   33                  2  69.00\n",
       "2            CITY SWEAT FULL ZIP HOODIE  BLACK    M      NAVY        2  64.00\n",
       "3          ABC JOGGER *WARPSTREME 30\" *  BLACK    M                  2  69.00\n",
       "4                THE SHORT 9\" LINERLESS  BLACK    M                  1  34.00"
      ]
     },
     "execution_count": 287,
     "metadata": {},
     "output_type": "execute_result"
    }
   ],
   "source": [
    "def clean(df):\n",
    "    \n",
    "    df = df.apply(lambda x: x.astype(str).str.upper())\n",
    "    df = df.replace('NAN', '')\n",
    "    \n",
    "    try:\n",
    "        df['Cost (As Listed)'] = df['Cost (As Listed)'].apply(lambda x: x.replace('$', ''))\n",
    "    except:\n",
    "        df['Price'] = df['Price'].apply(lambda x: x.replace('$', ''))\n",
    "    \n",
    "    return df\n",
    "\n",
    "df_order = clean(df_order)\n",
    "df_order.columns = ['Item', 'Colour', 'Size', 'AltColour', 'Quantity', 'Price']\n",
    "df_order.head()"
   ]
  },
  {
   "cell_type": "code",
   "execution_count": 288,
   "metadata": {
    "ExecuteTime": {
     "end_time": "2022-08-05T19:20:36.888435Z",
     "start_time": "2022-08-05T19:20:36.827442Z"
    },
    "scrolled": true
   },
   "outputs": [
    {
     "data": {
      "text/html": [
       "<div>\n",
       "<style scoped>\n",
       "    .dataframe tbody tr th:only-of-type {\n",
       "        vertical-align: middle;\n",
       "    }\n",
       "\n",
       "    .dataframe tbody tr th {\n",
       "        vertical-align: top;\n",
       "    }\n",
       "\n",
       "    .dataframe thead th {\n",
       "        text-align: right;\n",
       "    }\n",
       "</style>\n",
       "<table border=\"1\" class=\"dataframe\">\n",
       "  <thead>\n",
       "    <tr style=\"text-align: right;\">\n",
       "      <th></th>\n",
       "      <th>Item</th>\n",
       "      <th>Colour</th>\n",
       "      <th>Size</th>\n",
       "      <th>SKU</th>\n",
       "      <th>Price</th>\n",
       "      <th>Inventory</th>\n",
       "    </tr>\n",
       "  </thead>\n",
       "  <tbody>\n",
       "    <tr>\n",
       "      <th>0</th>\n",
       "      <td>VENTED TENNIS SHORT SLEEVE</td>\n",
       "      <td>WHITE</td>\n",
       "      <td>S</td>\n",
       "      <td>142325963</td>\n",
       "      <td>49.0</td>\n",
       "      <td>10.0</td>\n",
       "    </tr>\n",
       "    <tr>\n",
       "      <th>1</th>\n",
       "      <td>VENTED TENNIS SHORT SLEEVE</td>\n",
       "      <td>WHITE</td>\n",
       "      <td>M</td>\n",
       "      <td>142325958</td>\n",
       "      <td>49.0</td>\n",
       "      <td>43.0</td>\n",
       "    </tr>\n",
       "    <tr>\n",
       "      <th>2</th>\n",
       "      <td>VENTED TENNIS SHORT SLEEVE</td>\n",
       "      <td>WHITE</td>\n",
       "      <td>L</td>\n",
       "      <td>142325951</td>\n",
       "      <td>49.0</td>\n",
       "      <td>36.0</td>\n",
       "    </tr>\n",
       "    <tr>\n",
       "      <th>3</th>\n",
       "      <td>VENTED TENNIS SHORT SLEEVE</td>\n",
       "      <td>WHITE</td>\n",
       "      <td>XL</td>\n",
       "      <td>142325970</td>\n",
       "      <td>49.0</td>\n",
       "      <td>18.0</td>\n",
       "    </tr>\n",
       "    <tr>\n",
       "      <th>4</th>\n",
       "      <td>VENTED TENNIS SHORT SLEEVE</td>\n",
       "      <td>WHITE</td>\n",
       "      <td>XXL</td>\n",
       "      <td>142325983</td>\n",
       "      <td>49.0</td>\n",
       "      <td>4.0</td>\n",
       "    </tr>\n",
       "  </tbody>\n",
       "</table>\n",
       "</div>"
      ],
      "text/plain": [
       "                         Item Colour Size        SKU Price Inventory\n",
       "0  VENTED TENNIS SHORT SLEEVE  WHITE    S  142325963  49.0      10.0\n",
       "1  VENTED TENNIS SHORT SLEEVE  WHITE    M  142325958  49.0      43.0\n",
       "2  VENTED TENNIS SHORT SLEEVE  WHITE    L  142325951  49.0      36.0\n",
       "3  VENTED TENNIS SHORT SLEEVE  WHITE   XL  142325970  49.0      18.0\n",
       "4  VENTED TENNIS SHORT SLEEVE  WHITE  XXL  142325983  49.0       4.0"
      ]
     },
     "execution_count": 288,
     "metadata": {},
     "output_type": "execute_result"
    }
   ],
   "source": [
    "mens = pd.read_csv('inventoryinfo_mens.csv')\n",
    "mens = clean(mens)\n",
    "mens = mens[['Item', 'Colour', 'Size', 'SKU', 'Price', 'Inventory']]\n",
    "\n",
    "womens = pd.read_csv('inventoryinfo_womens.csv')\n",
    "womens = clean(womens)\n",
    "womens = womens[['Item', 'Colour', 'Size', 'SKU', 'Price', 'Inventory']]\n",
    "\n",
    "all_items = pd.concat([mens, womens])\n",
    "all_items.head()"
   ]
  },
  {
   "cell_type": "code",
   "execution_count": 289,
   "metadata": {
    "ExecuteTime": {
     "end_time": "2022-08-05T19:20:36.968434Z",
     "start_time": "2022-08-05T19:20:36.948439Z"
    }
   },
   "outputs": [
    {
     "data": {
      "text/plain": [
       "Index(['Item', 'Colour', 'Size', 'SKU', 'Price', 'Inventory'], dtype='object')"
      ]
     },
     "execution_count": 289,
     "metadata": {},
     "output_type": "execute_result"
    }
   ],
   "source": [
    "all_items.columns"
   ]
  },
  {
   "cell_type": "code",
   "execution_count": 290,
   "metadata": {
    "ExecuteTime": {
     "end_time": "2022-08-05T19:20:37.504511Z",
     "start_time": "2022-08-05T19:20:37.499515Z"
    }
   },
   "outputs": [],
   "source": [
    "#  def clean_colour(colour):\n",
    " \n",
    "def clean_size(size):\n",
    "    \n",
    "    if size.startswith('M'):\n",
    "        return 'M'\n",
    "    elif size.startswith('S'):\n",
    "        return 'S'\n",
    "    elif size.startswith('L'):\n",
    "        return 'L'\n",
    "    else:\n",
    "        return size\n",
    "    "
   ]
  },
  {
   "cell_type": "code",
   "execution_count": 291,
   "metadata": {
    "ExecuteTime": {
     "end_time": "2022-08-05T19:20:38.393894Z",
     "start_time": "2022-08-05T19:20:38.367705Z"
    },
    "scrolled": true
   },
   "outputs": [
    {
     "data": {
      "text/html": [
       "<div>\n",
       "<style scoped>\n",
       "    .dataframe tbody tr th:only-of-type {\n",
       "        vertical-align: middle;\n",
       "    }\n",
       "\n",
       "    .dataframe tbody tr th {\n",
       "        vertical-align: top;\n",
       "    }\n",
       "\n",
       "    .dataframe thead th {\n",
       "        text-align: right;\n",
       "    }\n",
       "</style>\n",
       "<table border=\"1\" class=\"dataframe\">\n",
       "  <thead>\n",
       "    <tr style=\"text-align: right;\">\n",
       "      <th></th>\n",
       "      <th>Item</th>\n",
       "      <th>Colour</th>\n",
       "      <th>Size</th>\n",
       "      <th>AltColour</th>\n",
       "      <th>Quantity</th>\n",
       "      <th>Price</th>\n",
       "    </tr>\n",
       "  </thead>\n",
       "  <tbody>\n",
       "    <tr>\n",
       "      <th>0</th>\n",
       "      <td>ABC JOGGER *WARPSTREME 30\" *</td>\n",
       "      <td>BLACK</td>\n",
       "      <td>M</td>\n",
       "      <td></td>\n",
       "      <td>2</td>\n",
       "      <td>69.00</td>\n",
       "    </tr>\n",
       "    <tr>\n",
       "      <th>1</th>\n",
       "      <td>ABC PANT CLASSIC FIT *WARPSTREME 32\"</td>\n",
       "      <td>BLACK</td>\n",
       "      <td>33</td>\n",
       "      <td></td>\n",
       "      <td>2</td>\n",
       "      <td>69.00</td>\n",
       "    </tr>\n",
       "    <tr>\n",
       "      <th>2</th>\n",
       "      <td>CITY SWEAT FULL ZIP HOODIE</td>\n",
       "      <td>BLACK</td>\n",
       "      <td>M</td>\n",
       "      <td>NAVY</td>\n",
       "      <td>2</td>\n",
       "      <td>64.00</td>\n",
       "    </tr>\n",
       "    <tr>\n",
       "      <th>3</th>\n",
       "      <td>LICENSE TO TRAIN SHORT 7\" LINERLESS</td>\n",
       "      <td>BLACK</td>\n",
       "      <td>M</td>\n",
       "      <td></td>\n",
       "      <td>1</td>\n",
       "      <td>44.00</td>\n",
       "    </tr>\n",
       "    <tr>\n",
       "      <th>4</th>\n",
       "      <td>SURGE JOGGERS 29\"</td>\n",
       "      <td>BLACK</td>\n",
       "      <td>M</td>\n",
       "      <td></td>\n",
       "      <td>1</td>\n",
       "      <td>69.00</td>\n",
       "    </tr>\n",
       "  </tbody>\n",
       "</table>\n",
       "</div>"
      ],
      "text/plain": [
       "                                   Item Colour Size AltColour Quantity  Price\n",
       "0          ABC JOGGER *WARPSTREME 30\" *  BLACK    M                  2  69.00\n",
       "1  ABC PANT CLASSIC FIT *WARPSTREME 32\"  BLACK   33                  2  69.00\n",
       "2            CITY SWEAT FULL ZIP HOODIE  BLACK    M      NAVY        2  64.00\n",
       "3   LICENSE TO TRAIN SHORT 7\" LINERLESS  BLACK    M                  1  44.00\n",
       "4                     SURGE JOGGERS 29\"  BLACK    M                  1  69.00"
      ]
     },
     "execution_count": 291,
     "metadata": {},
     "output_type": "execute_result"
    }
   ],
   "source": [
    "# Apply preprocessing steps to size and groupby sum quantity\n",
    "df_order['Size'].apply(lambda x: clean_size(x))\n",
    "df_order = df_order.groupby(['Item', 'Colour', 'Size']).sum()\n",
    "df_order = df_order.reset_index()\n",
    "df_order.columns = ['Item', 'Colour', 'Size', 'AltColour','Quantity', 'Price']\n",
    "df_order.head()"
   ]
  },
  {
   "cell_type": "markdown",
   "metadata": {},
   "source": [
    "## Challenges\n",
    "1. Getting the exact match is difficult. We need another method to get the closest match if no exact match exists"
   ]
  },
  {
   "cell_type": "code",
   "execution_count": 292,
   "metadata": {
    "ExecuteTime": {
     "end_time": "2022-08-05T19:20:39.448012Z",
     "start_time": "2022-08-05T19:20:39.431522Z"
    },
    "code_folding": []
   },
   "outputs": [],
   "source": [
    "import difflib\n",
    "import numpy as np\n",
    "from difflib import SequenceMatcher\n",
    "\n",
    "def match_sku(df, df_sku):\n",
    "\n",
    "    allitems = df_sku.Item.unique().tolist()\n",
    "    \n",
    "    item_list = []\n",
    "    similarity_list = []\n",
    "    colour_list = []\n",
    "    sku = []\n",
    "    list_price = []\n",
    "    ordered_price = []\n",
    "    notes = []\n",
    "    quantity_avail = []\n",
    "\n",
    "    for item, colour, size, altcolour, price in list(zip(df.Item.tolist(), \n",
    "                                       df.Colour.tolist(), \n",
    "                                       df.Size.tolist(),\n",
    "                                       df.AltColour.tolist(),\n",
    "                                       df.Price.tolist()         \n",
    "                                      ) \n",
    "                                  ):\n",
    "\n",
    "        match = difflib.get_close_matches(item, allitems, n=1)[0]\n",
    "        \n",
    "        # insert similarity matcher\n",
    "        similarity = round(SequenceMatcher(None, item, match).ratio()*100, 2) \n",
    "        \n",
    "        # print(item, match)\n",
    "        \n",
    "        try:\n",
    "            \n",
    "            sku.append(df_sku[(df_sku['Item']==match) & \n",
    "                            (df_sku['Colour']==colour) &\n",
    "                            (df_sku['Size']==size)]['SKU'].values.tolist()[0]\n",
    "                      )\n",
    "            \n",
    "            ordered_price.append(df_sku[(df_sku['Item']==match) & \n",
    "                            (df_sku['Colour']==colour) &\n",
    "                            (df_sku['Size']==size)]['Price'].values.tolist()[0]\n",
    "                        )\n",
    "\n",
    "            quantity_avail.append(df_sku[(df_sku['Item']==match) & \n",
    "                            (df_sku['Colour']==colour) &\n",
    "                            (df_sku['Size']==size)]['Inventory'].values.tolist()[0]\n",
    "                        )\n",
    "            \n",
    "            colour_list.append(colour)\n",
    "            notes.append('')\n",
    "            list_price.append(price)\n",
    "            item_list.append(match)\n",
    "            similarity_list.append(similarity)\n",
    "            \n",
    "        except:\n",
    "            \n",
    "            try:\n",
    "                if altcolour != '':\n",
    "                    \n",
    "                    sku.append(df_sku[(df_sku['Item']==match) & \n",
    "                                    (df_sku['Colour']==altcolour) &\n",
    "                                    (df_sku['Size']==size)]['SKU'].values.tolist()[0]\n",
    "                              )\n",
    "\n",
    "                    ordered_price.append(df_sku[(df_sku['Item']==match) & \n",
    "                                    (df_sku['Colour']==altcolour) &\n",
    "                                    (df_sku['Size']==size)]['Price'].values.tolist()[0]\n",
    "                                ) \n",
    "    \n",
    "                    quantity_avail.append(df_sku[(df_sku['Item']==match) & \n",
    "                                    (df_sku['Colour']==altcolour) &\n",
    "                                    (df_sku['Size']==size)]['Inventory'].values.tolist()[0]\n",
    "                                )\n",
    "                    \n",
    "                    colour_list.append(altcolour)\n",
    "                    notes.append(f'{altcolour} used')\n",
    "                    list_price.append(price)\n",
    "                    item_list.append(match)\n",
    "                    similarity_list.append(similarity)\n",
    "                    \n",
    "                else:\n",
    "                    pass\n",
    "                \n",
    "            except:\n",
    "                sku.append(np.nan)\n",
    "                ordered_price.append(np.nan)\n",
    "                colour_list.append(np.nan)\n",
    "                notes.append(np.nan)\n",
    "                list_price.append(np.nan)\n",
    "                quantity_avail.append(np.nan)\n",
    "                item_list.append(match)\n",
    "                similarity_list.append(similarity)\n",
    "    \n",
    "    df['Matched_Item'] = item_list\n",
    "    df['Matched_Similarity'] = similarity_list\n",
    "    df['SKU'] = sku\n",
    "    df['Listed_Price'] = list_price\n",
    "    df['Ordered_Price'] = ordered_price\n",
    "    df['ColourOrdered'] = colour_list\n",
    "    df['Notes'] = notes\n",
    "    df['Inventory'] = quantity_avail\n",
    "    \n",
    "    \n",
    "    # calc total of order\n",
    "    quant = df.Quantity.tolist()\n",
    "    list_pric = df.Listed_Price.replace(np.nan, 0).tolist()\n",
    "    ord_pric = df.Ordered_Price.replace(np.nan, 0).tolist()\n",
    "    \n",
    "    df['Row_Total_Listed'] = [float(a)*float(b) for a,b in zip(quant,list_pric)]\n",
    "    df['Row_Total_Ordered'] = [float(a)*float(b) for a,b in zip(quant,ord_pric)]\n",
    "    \n",
    "    print('(Listed) Total Order Pre-Tax is: ', df['Row_Total_Listed'].sum())\n",
    "    print('(Ordered) Total Order Pre-Tax is: ', df['Row_Total_Ordered'].sum())\n",
    "    \n",
    "    # calc if there's enough inventory for given quantity\n",
    "    df['Enough_Quantity'] = ['Yes' if float(x) <= float(y) else 'No' for x, y in zip(quant,quantity_avail)]\n",
    "    \n",
    "    \n",
    "    return df[['Item', 'Matched_Item', \n",
    "               'Matched_Similarity', 'SKU',\n",
    "               'Colour', 'AltColour', 'ColourOrdered', 'Notes',\n",
    "               'Size',\n",
    "               'Quantity', 'Inventory',\n",
    "               'Price', 'Listed_Price', 'Ordered_Price',\n",
    "               'Enough_Quantity',\n",
    "               'Row_Total_Listed', 'Row_Total_Ordered']]"
   ]
  },
  {
   "cell_type": "code",
   "execution_count": 293,
   "metadata": {
    "ExecuteTime": {
     "end_time": "2022-08-05T19:20:39.969316Z",
     "start_time": "2022-08-05T19:20:39.898346Z"
    },
    "scrolled": true
   },
   "outputs": [
    {
     "name": "stdout",
     "output_type": "stream",
     "text": [
      "(Listed) Total Order Pre-Tax is:  423.0\n",
      "(Ordered) Total Order Pre-Tax is:  418.0\n"
     ]
    }
   ],
   "source": [
    "df_order = match_sku(df_order, all_items)"
   ]
  },
  {
   "cell_type": "code",
   "execution_count": 294,
   "metadata": {
    "ExecuteTime": {
     "end_time": "2022-08-05T19:20:40.392632Z",
     "start_time": "2022-08-05T19:20:40.374610Z"
    }
   },
   "outputs": [
    {
     "data": {
      "text/html": [
       "<div>\n",
       "<style scoped>\n",
       "    .dataframe tbody tr th:only-of-type {\n",
       "        vertical-align: middle;\n",
       "    }\n",
       "\n",
       "    .dataframe tbody tr th {\n",
       "        vertical-align: top;\n",
       "    }\n",
       "\n",
       "    .dataframe thead th {\n",
       "        text-align: right;\n",
       "    }\n",
       "</style>\n",
       "<table border=\"1\" class=\"dataframe\">\n",
       "  <thead>\n",
       "    <tr style=\"text-align: right;\">\n",
       "      <th></th>\n",
       "      <th>Item</th>\n",
       "      <th>Matched_Item</th>\n",
       "      <th>Matched_Similarity</th>\n",
       "      <th>SKU</th>\n",
       "      <th>Colour</th>\n",
       "      <th>AltColour</th>\n",
       "      <th>ColourOrdered</th>\n",
       "      <th>Notes</th>\n",
       "      <th>Size</th>\n",
       "      <th>Quantity</th>\n",
       "      <th>Inventory</th>\n",
       "      <th>Price</th>\n",
       "      <th>Listed_Price</th>\n",
       "      <th>Ordered_Price</th>\n",
       "      <th>Enough_Quantity</th>\n",
       "      <th>Row_Total_Listed</th>\n",
       "      <th>Row_Total_Ordered</th>\n",
       "    </tr>\n",
       "  </thead>\n",
       "  <tbody>\n",
       "    <tr>\n",
       "      <th>0</th>\n",
       "      <td>ABC JOGGER *WARPSTREME 30\" *</td>\n",
       "      <td>ABC JOGGER *WARPSTREME 30\"</td>\n",
       "      <td>96.30</td>\n",
       "      <td>114850041</td>\n",
       "      <td>BLACK</td>\n",
       "      <td></td>\n",
       "      <td>BLACK</td>\n",
       "      <td></td>\n",
       "      <td>M</td>\n",
       "      <td>2</td>\n",
       "      <td>125.0</td>\n",
       "      <td>69.00</td>\n",
       "      <td>69.00</td>\n",
       "      <td>69.0</td>\n",
       "      <td>Yes</td>\n",
       "      <td>138.0</td>\n",
       "      <td>138.0</td>\n",
       "    </tr>\n",
       "    <tr>\n",
       "      <th>1</th>\n",
       "      <td>ABC PANT CLASSIC FIT *WARPSTREME 32\"</td>\n",
       "      <td>ABC PANT CLASSIC-FIT *WARPSTREME 32\"</td>\n",
       "      <td>97.22</td>\n",
       "      <td>136300434</td>\n",
       "      <td>BLACK</td>\n",
       "      <td></td>\n",
       "      <td>BLACK</td>\n",
       "      <td></td>\n",
       "      <td>33</td>\n",
       "      <td>2</td>\n",
       "      <td>11.0</td>\n",
       "      <td>69.00</td>\n",
       "      <td>69.00</td>\n",
       "      <td>69.0</td>\n",
       "      <td>Yes</td>\n",
       "      <td>138.0</td>\n",
       "      <td>138.0</td>\n",
       "    </tr>\n",
       "    <tr>\n",
       "      <th>2</th>\n",
       "      <td>CITY SWEAT FULL ZIP HOODIE</td>\n",
       "      <td>CITY SWEAT FULL ZIP HOODIE (S-5XL)</td>\n",
       "      <td>86.67</td>\n",
       "      <td>NaN</td>\n",
       "      <td>BLACK</td>\n",
       "      <td>NAVY</td>\n",
       "      <td>NaN</td>\n",
       "      <td>NaN</td>\n",
       "      <td>M</td>\n",
       "      <td>2</td>\n",
       "      <td>NaN</td>\n",
       "      <td>64.00</td>\n",
       "      <td>NaN</td>\n",
       "      <td>NaN</td>\n",
       "      <td>No</td>\n",
       "      <td>0.0</td>\n",
       "      <td>0.0</td>\n",
       "    </tr>\n",
       "    <tr>\n",
       "      <th>3</th>\n",
       "      <td>LICENSE TO TRAIN SHORT 7\" LINERLESS</td>\n",
       "      <td>LICENSE TO TRAIN SHORT 7\" *LINERLESS</td>\n",
       "      <td>98.59</td>\n",
       "      <td>122925085</td>\n",
       "      <td>BLACK</td>\n",
       "      <td></td>\n",
       "      <td>BLACK</td>\n",
       "      <td></td>\n",
       "      <td>M</td>\n",
       "      <td>1</td>\n",
       "      <td>106.0</td>\n",
       "      <td>44.00</td>\n",
       "      <td>44.00</td>\n",
       "      <td>44.0</td>\n",
       "      <td>Yes</td>\n",
       "      <td>44.0</td>\n",
       "      <td>44.0</td>\n",
       "    </tr>\n",
       "    <tr>\n",
       "      <th>4</th>\n",
       "      <td>SURGE JOGGERS 29\"</td>\n",
       "      <td>SURGE JOGGER 29\"</td>\n",
       "      <td>96.97</td>\n",
       "      <td>122925054</td>\n",
       "      <td>BLACK</td>\n",
       "      <td></td>\n",
       "      <td>BLACK</td>\n",
       "      <td></td>\n",
       "      <td>M</td>\n",
       "      <td>1</td>\n",
       "      <td>126.0</td>\n",
       "      <td>69.00</td>\n",
       "      <td>69.00</td>\n",
       "      <td>64.0</td>\n",
       "      <td>Yes</td>\n",
       "      <td>69.0</td>\n",
       "      <td>64.0</td>\n",
       "    </tr>\n",
       "    <tr>\n",
       "      <th>5</th>\n",
       "      <td>THE SHORT 9\" LINERLESS</td>\n",
       "      <td>T.H.E. SHORT 9\" *LINERLESS</td>\n",
       "      <td>91.67</td>\n",
       "      <td>3810740</td>\n",
       "      <td>BLACK</td>\n",
       "      <td></td>\n",
       "      <td>BLACK</td>\n",
       "      <td></td>\n",
       "      <td>M</td>\n",
       "      <td>1</td>\n",
       "      <td>30.0</td>\n",
       "      <td>34.00</td>\n",
       "      <td>34.00</td>\n",
       "      <td>34.0</td>\n",
       "      <td>Yes</td>\n",
       "      <td>34.0</td>\n",
       "      <td>34.0</td>\n",
       "    </tr>\n",
       "  </tbody>\n",
       "</table>\n",
       "</div>"
      ],
      "text/plain": [
       "                                   Item                          Matched_Item  \\\n",
       "0          ABC JOGGER *WARPSTREME 30\" *            ABC JOGGER *WARPSTREME 30\"   \n",
       "1  ABC PANT CLASSIC FIT *WARPSTREME 32\"  ABC PANT CLASSIC-FIT *WARPSTREME 32\"   \n",
       "2            CITY SWEAT FULL ZIP HOODIE    CITY SWEAT FULL ZIP HOODIE (S-5XL)   \n",
       "3   LICENSE TO TRAIN SHORT 7\" LINERLESS  LICENSE TO TRAIN SHORT 7\" *LINERLESS   \n",
       "4                     SURGE JOGGERS 29\"                      SURGE JOGGER 29\"   \n",
       "5                THE SHORT 9\" LINERLESS            T.H.E. SHORT 9\" *LINERLESS   \n",
       "\n",
       "   Matched_Similarity        SKU Colour AltColour ColourOrdered Notes Size  \\\n",
       "0               96.30  114850041  BLACK                   BLACK          M   \n",
       "1               97.22  136300434  BLACK                   BLACK         33   \n",
       "2               86.67        NaN  BLACK      NAVY           NaN   NaN    M   \n",
       "3               98.59  122925085  BLACK                   BLACK          M   \n",
       "4               96.97  122925054  BLACK                   BLACK          M   \n",
       "5               91.67    3810740  BLACK                   BLACK          M   \n",
       "\n",
       "  Quantity Inventory  Price Listed_Price Ordered_Price Enough_Quantity  \\\n",
       "0        2     125.0  69.00        69.00          69.0             Yes   \n",
       "1        2      11.0  69.00        69.00          69.0             Yes   \n",
       "2        2       NaN  64.00          NaN           NaN              No   \n",
       "3        1     106.0  44.00        44.00          44.0             Yes   \n",
       "4        1     126.0  69.00        69.00          64.0             Yes   \n",
       "5        1      30.0  34.00        34.00          34.0             Yes   \n",
       "\n",
       "   Row_Total_Listed  Row_Total_Ordered  \n",
       "0             138.0              138.0  \n",
       "1             138.0              138.0  \n",
       "2               0.0                0.0  \n",
       "3              44.0               44.0  \n",
       "4              69.0               64.0  \n",
       "5              34.0               34.0  "
      ]
     },
     "execution_count": 294,
     "metadata": {},
     "output_type": "execute_result"
    }
   ],
   "source": [
    "df_order"
   ]
  },
  {
   "cell_type": "markdown",
   "metadata": {},
   "source": [
    "## 3. Save SKUs and Quantity"
   ]
  },
  {
   "cell_type": "code",
   "execution_count": 165,
   "metadata": {
    "ExecuteTime": {
     "end_time": "2022-08-05T18:25:24.422989Z",
     "start_time": "2022-08-05T18:25:24.393773Z"
    },
    "scrolled": true
   },
   "outputs": [],
   "source": [
    "df_order[['SKU', 'Quantity']][~df_order['SKU'].isnull()].to_csv('test.csv', index=False)"
   ]
  },
  {
   "cell_type": "code",
   "execution_count": 295,
   "metadata": {
    "ExecuteTime": {
     "end_time": "2022-08-05T19:20:47.867381Z",
     "start_time": "2022-08-05T19:20:47.852439Z"
    },
    "scrolled": true
   },
   "outputs": [
    {
     "data": {
      "text/html": [
       "<div>\n",
       "<style scoped>\n",
       "    .dataframe tbody tr th:only-of-type {\n",
       "        vertical-align: middle;\n",
       "    }\n",
       "\n",
       "    .dataframe tbody tr th {\n",
       "        vertical-align: top;\n",
       "    }\n",
       "\n",
       "    .dataframe thead th {\n",
       "        text-align: right;\n",
       "    }\n",
       "</style>\n",
       "<table border=\"1\" class=\"dataframe\">\n",
       "  <thead>\n",
       "    <tr style=\"text-align: right;\">\n",
       "      <th></th>\n",
       "      <th>SKU</th>\n",
       "      <th>Quantity</th>\n",
       "    </tr>\n",
       "  </thead>\n",
       "  <tbody>\n",
       "    <tr>\n",
       "      <th>0</th>\n",
       "      <td>114850041</td>\n",
       "      <td>2</td>\n",
       "    </tr>\n",
       "    <tr>\n",
       "      <th>1</th>\n",
       "      <td>136300434</td>\n",
       "      <td>2</td>\n",
       "    </tr>\n",
       "    <tr>\n",
       "      <th>3</th>\n",
       "      <td>122925085</td>\n",
       "      <td>1</td>\n",
       "    </tr>\n",
       "    <tr>\n",
       "      <th>4</th>\n",
       "      <td>122925054</td>\n",
       "      <td>1</td>\n",
       "    </tr>\n",
       "    <tr>\n",
       "      <th>5</th>\n",
       "      <td>3810740</td>\n",
       "      <td>1</td>\n",
       "    </tr>\n",
       "  </tbody>\n",
       "</table>\n",
       "</div>"
      ],
      "text/plain": [
       "         SKU Quantity\n",
       "0  114850041        2\n",
       "1  136300434        2\n",
       "3  122925085        1\n",
       "4  122925054        1\n",
       "5    3810740        1"
      ]
     },
     "execution_count": 295,
     "metadata": {},
     "output_type": "execute_result"
    }
   ],
   "source": [
    "df_order[['SKU', 'Quantity']][~df_order['SKU'].isnull()]"
   ]
  },
  {
   "cell_type": "markdown",
   "metadata": {},
   "source": [
    "## 4. Add to Cart via CSV Upload (Manual)\n",
    "- lululemon has an option where if you have the SKU and quantity, you can upload that csv file directly to your cart"
   ]
  }
 ],
 "metadata": {
  "kernelspec": {
   "display_name": "Python 3",
   "language": "python",
   "name": "python3"
  },
  "language_info": {
   "codemirror_mode": {
    "name": "ipython",
    "version": 3
   },
   "file_extension": ".py",
   "mimetype": "text/x-python",
   "name": "python",
   "nbconvert_exporter": "python",
   "pygments_lexer": "ipython3",
   "version": "3.7.2"
  }
 },
 "nbformat": 4,
 "nbformat_minor": 4
}
